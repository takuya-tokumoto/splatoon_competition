{
 "cells": [
  {
   "cell_type": "code",
   "execution_count": 1,
   "metadata": {},
   "outputs": [],
   "source": [
    "import pandas as pd\n",
    "import datetime\n",
    "import logging\n",
    "from sklearn.model_selection import KFold\n",
    "import argparse\n",
    "import json\n",
    "import numpy as np\n",
    "\n",
    "import sys\n",
    "sys.path.append('..')\n",
    "from utils import load_datasets, load_target\n",
    "from logs.logger import log_best\n",
    "from models.lgbm import train_and_predict\n",
    "import os\n",
    "os.chdir('../')\n",
    "\n",
    "%matplotlib inline"
   ]
  },
  {
   "cell_type": "code",
   "execution_count": 2,
   "metadata": {},
   "outputs": [
    {
     "data": {
      "text/plain": [
       "'C:\\\\Users\\\\takuy\\\\work\\\\work_tokumoto\\\\splatoon_competition'"
      ]
     },
     "execution_count": 2,
     "metadata": {},
     "output_type": "execute_result"
    }
   ],
   "source": [
    "os.getcwd()"
   ]
  },
  {
   "cell_type": "code",
   "execution_count": null,
   "metadata": {},
   "outputs": [],
   "source": []
  },
  {
   "cell_type": "code",
   "execution_count": 7,
   "metadata": {},
   "outputs": [],
   "source": [
    "parser = argparse.ArgumentParser()\n",
    "parser.add_argument('--config', default='./configs/default_v01.json')\n",
    "options = parser.parse_args(args=[])\n",
    "config = json.load(open(options.config))\n",
    "\n",
    "feats = config['features']\n",
    "logging.debug(feats)\n",
    "\n",
    "target_name = config['target_name']"
   ]
  },
  {
   "cell_type": "code",
   "execution_count": 8,
   "metadata": {},
   "outputs": [],
   "source": [
    "X_train_all, X_test = load_datasets(feats, target_name)\n",
    "y_train_all = load_target(target_name)"
   ]
  },
  {
   "cell_type": "code",
   "execution_count": null,
   "metadata": {},
   "outputs": [],
   "source": []
  },
  {
   "cell_type": "code",
   "execution_count": 9,
   "metadata": {},
   "outputs": [
    {
     "data": {
      "text/html": [
       "<div>\n",
       "<style scoped>\n",
       "    .dataframe tbody tr th:only-of-type {\n",
       "        vertical-align: middle;\n",
       "    }\n",
       "\n",
       "    .dataframe tbody tr th {\n",
       "        vertical-align: top;\n",
       "    }\n",
       "\n",
       "    .dataframe thead th {\n",
       "        text-align: right;\n",
       "    }\n",
       "</style>\n",
       "<table border=\"1\" class=\"dataframe\">\n",
       "  <thead>\n",
       "    <tr style=\"text-align: right;\">\n",
       "      <th></th>\n",
       "      <th>A1-level</th>\n",
       "      <th>A2-level</th>\n",
       "      <th>A3-level</th>\n",
       "      <th>A4-level</th>\n",
       "      <th>B1-level</th>\n",
       "      <th>B2-level</th>\n",
       "      <th>B3-level</th>\n",
       "      <th>B4-level</th>\n",
       "      <th>enc_period</th>\n",
       "      <th>enc_game-ver</th>\n",
       "      <th>...</th>\n",
       "      <th>B_rank_max</th>\n",
       "      <th>B_rank_min</th>\n",
       "      <th>A_level_mean</th>\n",
       "      <th>A_level_std</th>\n",
       "      <th>A_level_max</th>\n",
       "      <th>A_level_min</th>\n",
       "      <th>B_level_mean</th>\n",
       "      <th>B_level_std</th>\n",
       "      <th>B_level_max</th>\n",
       "      <th>B_level_min</th>\n",
       "    </tr>\n",
       "  </thead>\n",
       "  <tbody>\n",
       "    <tr>\n",
       "      <th>0</th>\n",
       "      <td>139</td>\n",
       "      <td>118.0</td>\n",
       "      <td>13.0</td>\n",
       "      <td>10.0</td>\n",
       "      <td>28</td>\n",
       "      <td>26.0</td>\n",
       "      <td>68.0</td>\n",
       "      <td>31.0</td>\n",
       "      <td>0.515152</td>\n",
       "      <td>0.525161</td>\n",
       "      <td>...</td>\n",
       "      <td>0.0</td>\n",
       "      <td>0.0</td>\n",
       "      <td>70.00</td>\n",
       "      <td>68.102863</td>\n",
       "      <td>139.0</td>\n",
       "      <td>10.0</td>\n",
       "      <td>38.25</td>\n",
       "      <td>19.939492</td>\n",
       "      <td>68.0</td>\n",
       "      <td>26.0</td>\n",
       "    </tr>\n",
       "    <tr>\n",
       "      <th>1</th>\n",
       "      <td>198</td>\n",
       "      <td>77.0</td>\n",
       "      <td>198.0</td>\n",
       "      <td>123.0</td>\n",
       "      <td>83</td>\n",
       "      <td>118.0</td>\n",
       "      <td>168.0</td>\n",
       "      <td>151.0</td>\n",
       "      <td>0.466667</td>\n",
       "      <td>0.524499</td>\n",
       "      <td>...</td>\n",
       "      <td>0.0</td>\n",
       "      <td>0.0</td>\n",
       "      <td>149.00</td>\n",
       "      <td>59.615434</td>\n",
       "      <td>198.0</td>\n",
       "      <td>77.0</td>\n",
       "      <td>130.00</td>\n",
       "      <td>37.585458</td>\n",
       "      <td>168.0</td>\n",
       "      <td>83.0</td>\n",
       "    </tr>\n",
       "    <tr>\n",
       "      <th>2</th>\n",
       "      <td>114</td>\n",
       "      <td>68.0</td>\n",
       "      <td>225.0</td>\n",
       "      <td>107.0</td>\n",
       "      <td>50</td>\n",
       "      <td>163.0</td>\n",
       "      <td>160.0</td>\n",
       "      <td>126.0</td>\n",
       "      <td>0.600000</td>\n",
       "      <td>0.525747</td>\n",
       "      <td>...</td>\n",
       "      <td>9.0</td>\n",
       "      <td>7.0</td>\n",
       "      <td>128.50</td>\n",
       "      <td>67.441333</td>\n",
       "      <td>225.0</td>\n",
       "      <td>68.0</td>\n",
       "      <td>124.75</td>\n",
       "      <td>52.582475</td>\n",
       "      <td>163.0</td>\n",
       "      <td>50.0</td>\n",
       "    </tr>\n",
       "    <tr>\n",
       "      <th>3</th>\n",
       "      <td>336</td>\n",
       "      <td>131.0</td>\n",
       "      <td>189.0</td>\n",
       "      <td>41.0</td>\n",
       "      <td>273</td>\n",
       "      <td>189.0</td>\n",
       "      <td>194.0</td>\n",
       "      <td>391.0</td>\n",
       "      <td>0.571429</td>\n",
       "      <td>0.523781</td>\n",
       "      <td>...</td>\n",
       "      <td>0.0</td>\n",
       "      <td>0.0</td>\n",
       "      <td>174.25</td>\n",
       "      <td>123.836922</td>\n",
       "      <td>336.0</td>\n",
       "      <td>41.0</td>\n",
       "      <td>261.75</td>\n",
       "      <td>94.365866</td>\n",
       "      <td>391.0</td>\n",
       "      <td>189.0</td>\n",
       "    </tr>\n",
       "    <tr>\n",
       "      <th>4</th>\n",
       "      <td>299</td>\n",
       "      <td>97.0</td>\n",
       "      <td>96.0</td>\n",
       "      <td>136.0</td>\n",
       "      <td>101</td>\n",
       "      <td>45.0</td>\n",
       "      <td>246.0</td>\n",
       "      <td>160.0</td>\n",
       "      <td>0.580000</td>\n",
       "      <td>0.524329</td>\n",
       "      <td>...</td>\n",
       "      <td>12.0</td>\n",
       "      <td>12.0</td>\n",
       "      <td>157.00</td>\n",
       "      <td>96.481432</td>\n",
       "      <td>299.0</td>\n",
       "      <td>96.0</td>\n",
       "      <td>138.00</td>\n",
       "      <td>85.957354</td>\n",
       "      <td>246.0</td>\n",
       "      <td>45.0</td>\n",
       "    </tr>\n",
       "  </tbody>\n",
       "</table>\n",
       "<p>5 rows × 48 columns</p>\n",
       "</div>"
      ],
      "text/plain": [
       "   A1-level  A2-level  A3-level  A4-level  B1-level  B2-level  B3-level  \\\n",
       "0       139     118.0      13.0      10.0        28      26.0      68.0   \n",
       "1       198      77.0     198.0     123.0        83     118.0     168.0   \n",
       "2       114      68.0     225.0     107.0        50     163.0     160.0   \n",
       "3       336     131.0     189.0      41.0       273     189.0     194.0   \n",
       "4       299      97.0      96.0     136.0       101      45.0     246.0   \n",
       "\n",
       "   B4-level  enc_period  enc_game-ver     ...       B_rank_max  B_rank_min  \\\n",
       "0      31.0    0.515152      0.525161     ...              0.0         0.0   \n",
       "1     151.0    0.466667      0.524499     ...              0.0         0.0   \n",
       "2     126.0    0.600000      0.525747     ...              9.0         7.0   \n",
       "3     391.0    0.571429      0.523781     ...              0.0         0.0   \n",
       "4     160.0    0.580000      0.524329     ...             12.0        12.0   \n",
       "\n",
       "   A_level_mean  A_level_std  A_level_max  A_level_min  B_level_mean  \\\n",
       "0         70.00    68.102863        139.0         10.0         38.25   \n",
       "1        149.00    59.615434        198.0         77.0        130.00   \n",
       "2        128.50    67.441333        225.0         68.0        124.75   \n",
       "3        174.25   123.836922        336.0         41.0        261.75   \n",
       "4        157.00    96.481432        299.0         96.0        138.00   \n",
       "\n",
       "   B_level_std  B_level_max  B_level_min  \n",
       "0    19.939492         68.0         26.0  \n",
       "1    37.585458        168.0         83.0  \n",
       "2    52.582475        163.0         50.0  \n",
       "3    94.365866        391.0        189.0  \n",
       "4    85.957354        246.0         45.0  \n",
       "\n",
       "[5 rows x 48 columns]"
      ]
     },
     "execution_count": 9,
     "metadata": {},
     "output_type": "execute_result"
    }
   ],
   "source": [
    "X_train_all.head()"
   ]
  },
  {
   "cell_type": "code",
   "execution_count": 10,
   "metadata": {},
   "outputs": [
    {
     "name": "stdout",
     "output_type": "stream",
     "text": [
      "Index(['A1-level', 'A2-level', 'A3-level', 'A4-level', 'B1-level', 'B2-level',\n",
      "       'B3-level', 'B4-level', 'enc_period', 'enc_game-ver', 'enc_lobby-mode',\n",
      "       'enc_lobby', 'enc_mode', 'enc_stage', 'enc_A1-weapon', 'enc_A1-rank',\n",
      "       'enc_A2-weapon', 'enc_A2-rank', 'enc_A3-weapon', 'enc_A3-rank',\n",
      "       'enc_A4-weapon', 'enc_A4-rank', 'enc_B1-weapon', 'enc_B1-rank',\n",
      "       'enc_B2-weapon', 'enc_B2-rank', 'enc_B3-weapon', 'enc_B3-rank',\n",
      "       'enc_B4-weapon', 'enc_B4-rank', 'A_charger_count', 'B_charger_count',\n",
      "       'A_rank_mean', 'A_rank_std', 'A_rank_max', 'A_rank_min', 'B_rank_mean',\n",
      "       'B_rank_std', 'B_rank_max', 'B_rank_min', 'A_level_mean', 'A_level_std',\n",
      "       'A_level_max', 'A_level_min', 'B_level_mean', 'B_level_std',\n",
      "       'B_level_max', 'B_level_min'],\n",
      "      dtype='object')\n",
      "Index(['A1-level', 'A2-level', 'A3-level', 'A4-level', 'B1-level', 'B2-level',\n",
      "       'B3-level', 'B4-level', 'enc_period', 'enc_game-ver', 'enc_lobby-mode',\n",
      "       'enc_lobby', 'enc_mode', 'enc_stage', 'enc_A1-weapon', 'enc_A1-rank',\n",
      "       'enc_A2-weapon', 'enc_A2-rank', 'enc_A3-weapon', 'enc_A3-rank',\n",
      "       'enc_A4-weapon', 'enc_A4-rank', 'enc_B1-weapon', 'enc_B1-rank',\n",
      "       'enc_B2-weapon', 'enc_B2-rank', 'enc_B3-weapon', 'enc_B3-rank',\n",
      "       'enc_B4-weapon', 'enc_B4-rank', 'A_charger_count', 'B_charger_count',\n",
      "       'A_rank_mean', 'A_rank_std', 'A_rank_max', 'A_rank_min', 'B_rank_mean',\n",
      "       'B_rank_std', 'B_rank_max', 'B_rank_min', 'A_level_mean', 'A_level_std',\n",
      "       'A_level_max', 'A_level_min', 'B_level_mean', 'B_level_std',\n",
      "       'B_level_max', 'B_level_min'],\n",
      "      dtype='object')\n"
     ]
    }
   ],
   "source": [
    "# 訓練データとテストデータの列を確認\n",
    "print(X_train_all.columns)\n",
    "print(X_test.columns)"
   ]
  },
  {
   "cell_type": "code",
   "execution_count": 11,
   "metadata": {},
   "outputs": [
    {
     "name": "stdout",
     "output_type": "stream",
     "text": [
      "(66125, 48)\n",
      "(28340, 48)\n"
     ]
    }
   ],
   "source": [
    "# 訓練データとテストデータの列を確認\n",
    "print(X_train_all.shape)\n",
    "print(X_test.shape)"
   ]
  },
  {
   "cell_type": "code",
   "execution_count": 12,
   "metadata": {},
   "outputs": [
    {
     "data": {
      "text/plain": [
       "0"
      ]
     },
     "execution_count": 12,
     "metadata": {},
     "output_type": "execute_result"
    }
   ],
   "source": [
    "#　訓練データに欠損がないことの確認\n",
    "X_train_all.isnull().sum().sum()"
   ]
  },
  {
   "cell_type": "code",
   "execution_count": 9,
   "metadata": {},
   "outputs": [
    {
     "data": {
      "text/plain": [
       "0"
      ]
     },
     "execution_count": 9,
     "metadata": {},
     "output_type": "execute_result"
    }
   ],
   "source": [
    "#　テストデータに欠損がないことの確認\n",
    "X_test.isnull().sum().sum()"
   ]
  },
  {
   "cell_type": "code",
   "execution_count": 10,
   "metadata": {},
   "outputs": [
    {
     "name": "stdout",
     "output_type": "stream",
     "text": [
      "-------------------train-------------------\n",
      "A1-level          0\n",
      "A2-level          0\n",
      "A3-level          0\n",
      "A4-level          0\n",
      "B1-level          0\n",
      "B2-level          0\n",
      "B3-level          0\n",
      "B4-level          0\n",
      "enc_period        0\n",
      "enc_game-ver      0\n",
      "enc_lobby-mode    0\n",
      "enc_lobby         0\n",
      "enc_mode          0\n",
      "enc_stage         0\n",
      "enc_A1-weapon     0\n",
      "enc_A1-rank       0\n",
      "enc_A2-weapon     0\n",
      "enc_A2-rank       0\n",
      "enc_A3-weapon     0\n",
      "enc_A3-rank       0\n",
      "enc_A4-weapon     0\n",
      "enc_A4-rank       0\n",
      "enc_B1-weapon     0\n",
      "enc_B1-rank       0\n",
      "enc_B2-weapon     0\n",
      "enc_B2-rank       0\n",
      "enc_B3-weapon     0\n",
      "enc_B3-rank       0\n",
      "enc_B4-weapon     0\n",
      "enc_B4-rank       0\n",
      "dtype: int64\n",
      "-------------------test-------------------\n",
      "A1-level          0\n",
      "A2-level          0\n",
      "A3-level          0\n",
      "A4-level          0\n",
      "B1-level          0\n",
      "B2-level          0\n",
      "B3-level          0\n",
      "B4-level          0\n",
      "enc_period        0\n",
      "enc_game-ver      0\n",
      "enc_lobby-mode    0\n",
      "enc_lobby         0\n",
      "enc_mode          0\n",
      "enc_stage         0\n",
      "enc_A1-weapon     0\n",
      "enc_A1-rank       0\n",
      "enc_A2-weapon     0\n",
      "enc_A2-rank       0\n",
      "enc_A3-weapon     0\n",
      "enc_A3-rank       0\n",
      "enc_A4-weapon     0\n",
      "enc_A4-rank       0\n",
      "enc_B1-weapon     0\n",
      "enc_B1-rank       0\n",
      "enc_B2-weapon     0\n",
      "enc_B2-rank       0\n",
      "enc_B3-weapon     0\n",
      "enc_B3-rank       0\n",
      "enc_B4-weapon     0\n",
      "enc_B4-rank       0\n",
      "dtype: int64\n"
     ]
    }
   ],
   "source": [
    "print(\"-------------------train-------------------\")\n",
    "print(X_train_all.isnull().sum())\n",
    "print(\"-------------------test-------------------\")\n",
    "print(X_test.isnull().sum())"
   ]
  },
  {
   "cell_type": "code",
   "execution_count": 14,
   "metadata": {},
   "outputs": [
    {
     "name": "stdout",
     "output_type": "stream",
     "text": [
      "<class 'pandas.core.frame.DataFrame'>\n",
      "RangeIndex: 28340 entries, 0 to 28339\n",
      "Data columns (total 30 columns):\n",
      "A1-level          28340 non-null int64\n",
      "A2-level          28340 non-null float64\n",
      "A3-level          28340 non-null float64\n",
      "A4-level          28340 non-null float64\n",
      "B1-level          28340 non-null int64\n",
      "B2-level          28340 non-null float64\n",
      "B3-level          28340 non-null float64\n",
      "B4-level          28340 non-null float64\n",
      "enc_period        28340 non-null float64\n",
      "enc_game-ver      28340 non-null float64\n",
      "enc_lobby-mode    28340 non-null float64\n",
      "enc_lobby         28340 non-null float64\n",
      "enc_mode          28340 non-null float64\n",
      "enc_stage         28340 non-null float64\n",
      "enc_A1-weapon     28340 non-null float64\n",
      "enc_A1-rank       28340 non-null float64\n",
      "enc_A2-weapon     28340 non-null float64\n",
      "enc_A2-rank       28340 non-null float64\n",
      "enc_A3-weapon     28340 non-null float64\n",
      "enc_A3-rank       28340 non-null float64\n",
      "enc_A4-weapon     28340 non-null float64\n",
      "enc_A4-rank       28340 non-null float64\n",
      "enc_B1-weapon     28340 non-null float64\n",
      "enc_B1-rank       28340 non-null float64\n",
      "enc_B2-weapon     28340 non-null float64\n",
      "enc_B2-rank       28340 non-null float64\n",
      "enc_B3-weapon     28340 non-null float64\n",
      "enc_B3-rank       28340 non-null float64\n",
      "enc_B4-weapon     28340 non-null float64\n",
      "enc_B4-rank       28340 non-null float64\n",
      "dtypes: float64(28), int64(2)\n",
      "memory usage: 6.5 MB\n"
     ]
    },
    {
     "data": {
      "text/plain": [
       "None"
      ]
     },
     "metadata": {},
     "output_type": "display_data"
    }
   ],
   "source": [
    "display(X_test.info())"
   ]
  },
  {
   "cell_type": "code",
   "execution_count": null,
   "metadata": {},
   "outputs": [],
   "source": []
  }
 ],
 "metadata": {
  "kernelspec": {
   "display_name": "Python 3",
   "language": "python",
   "name": "python3"
  },
  "language_info": {
   "codemirror_mode": {
    "name": "ipython",
    "version": 3
   },
   "file_extension": ".py",
   "mimetype": "text/x-python",
   "name": "python",
   "nbconvert_exporter": "python",
   "pygments_lexer": "ipython3",
   "version": "3.6.7"
  }
 },
 "nbformat": 4,
 "nbformat_minor": 2
}
