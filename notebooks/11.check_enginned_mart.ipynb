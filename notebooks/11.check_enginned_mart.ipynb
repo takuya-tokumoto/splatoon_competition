{
 "cells": [
  {
   "cell_type": "code",
   "execution_count": 1,
   "metadata": {},
   "outputs": [],
   "source": [
    "import pandas as pd\n",
    "import datetime\n",
    "import logging\n",
    "from sklearn.model_selection import KFold\n",
    "import argparse\n",
    "import json\n",
    "import numpy as np\n",
    "\n",
    "import sys\n",
    "sys.path.append('..')\n",
    "from utils import load_datasets, load_target\n",
    "from logs.logger import log_best\n",
    "from models.lgbm import train_and_predict\n",
    "import os\n",
    "os.chdir('../')\n",
    "\n",
    "%matplotlib inline"
   ]
  },
  {
   "cell_type": "code",
   "execution_count": 2,
   "metadata": {},
   "outputs": [
    {
     "data": {
      "text/plain": [
       "'C:\\\\Users\\\\takuy\\\\work\\\\work_tokumoto\\\\splatoon_competition'"
      ]
     },
     "execution_count": 2,
     "metadata": {},
     "output_type": "execute_result"
    }
   ],
   "source": [
    "os.getcwd()"
   ]
  },
  {
   "cell_type": "code",
   "execution_count": null,
   "metadata": {},
   "outputs": [],
   "source": []
  },
  {
   "cell_type": "code",
   "execution_count": 3,
   "metadata": {},
   "outputs": [],
   "source": [
    "parser = argparse.ArgumentParser()\n",
    "parser.add_argument('--config', default='./configs/default_v04.json')\n",
    "options = parser.parse_args(args=[])\n",
    "config = json.load(open(options.config))\n",
    "\n",
    "feats = config['features']\n",
    "logging.debug(feats)\n",
    "\n",
    "target_name = config['target_name']"
   ]
  },
  {
   "cell_type": "code",
   "execution_count": 4,
   "metadata": {},
   "outputs": [],
   "source": [
    "X_train_all, X_test = load_datasets(feats, target_name)\n",
    "y_train_all = load_target(target_name)"
   ]
  },
  {
   "cell_type": "code",
   "execution_count": null,
   "metadata": {},
   "outputs": [],
   "source": []
  },
  {
   "cell_type": "code",
   "execution_count": 5,
   "metadata": {},
   "outputs": [
    {
     "data": {
      "text/html": [
       "<div>\n",
       "<style scoped>\n",
       "    .dataframe tbody tr th:only-of-type {\n",
       "        vertical-align: middle;\n",
       "    }\n",
       "\n",
       "    .dataframe tbody tr th {\n",
       "        vertical-align: top;\n",
       "    }\n",
       "\n",
       "    .dataframe thead th {\n",
       "        text-align: right;\n",
       "    }\n",
       "</style>\n",
       "<table border=\"1\" class=\"dataframe\">\n",
       "  <thead>\n",
       "    <tr style=\"text-align: right;\">\n",
       "      <th></th>\n",
       "      <th>A1-level</th>\n",
       "      <th>A2-level</th>\n",
       "      <th>A3-level</th>\n",
       "      <th>A4-level</th>\n",
       "      <th>B1-level</th>\n",
       "      <th>B2-level</th>\n",
       "      <th>B3-level</th>\n",
       "      <th>B4-level</th>\n",
       "      <th>enc_period</th>\n",
       "      <th>enc_game-ver</th>\n",
       "      <th>...</th>\n",
       "      <th>poisonmist_B_count</th>\n",
       "      <th>torpedo_A_count</th>\n",
       "      <th>torpedo_B_count</th>\n",
       "      <th>jumpbeacon_A_count</th>\n",
       "      <th>jumpbeacon_B_count</th>\n",
       "      <th>tansanbomb_A_count</th>\n",
       "      <th>tansanbomb_B_count</th>\n",
       "      <th>trap_A_count</th>\n",
       "      <th>trap_B_count</th>\n",
       "      <th>size</th>\n",
       "    </tr>\n",
       "  </thead>\n",
       "  <tbody>\n",
       "    <tr>\n",
       "      <th>0</th>\n",
       "      <td>139</td>\n",
       "      <td>118.0</td>\n",
       "      <td>13.0</td>\n",
       "      <td>10.0</td>\n",
       "      <td>28</td>\n",
       "      <td>26.0</td>\n",
       "      <td>68.0</td>\n",
       "      <td>31.0</td>\n",
       "      <td>0.515152</td>\n",
       "      <td>0.525161</td>\n",
       "      <td>...</td>\n",
       "      <td>0</td>\n",
       "      <td>0</td>\n",
       "      <td>0</td>\n",
       "      <td>0</td>\n",
       "      <td>0</td>\n",
       "      <td>0</td>\n",
       "      <td>0</td>\n",
       "      <td>1</td>\n",
       "      <td>0</td>\n",
       "      <td>2855.0</td>\n",
       "    </tr>\n",
       "    <tr>\n",
       "      <th>1</th>\n",
       "      <td>198</td>\n",
       "      <td>77.0</td>\n",
       "      <td>198.0</td>\n",
       "      <td>123.0</td>\n",
       "      <td>83</td>\n",
       "      <td>118.0</td>\n",
       "      <td>168.0</td>\n",
       "      <td>151.0</td>\n",
       "      <td>0.466667</td>\n",
       "      <td>0.524499</td>\n",
       "      <td>...</td>\n",
       "      <td>0</td>\n",
       "      <td>0</td>\n",
       "      <td>1</td>\n",
       "      <td>0</td>\n",
       "      <td>1</td>\n",
       "      <td>0</td>\n",
       "      <td>0</td>\n",
       "      <td>1</td>\n",
       "      <td>0</td>\n",
       "      <td>2391.0</td>\n",
       "    </tr>\n",
       "    <tr>\n",
       "      <th>2</th>\n",
       "      <td>114</td>\n",
       "      <td>68.0</td>\n",
       "      <td>225.0</td>\n",
       "      <td>107.0</td>\n",
       "      <td>50</td>\n",
       "      <td>163.0</td>\n",
       "      <td>160.0</td>\n",
       "      <td>126.0</td>\n",
       "      <td>0.600000</td>\n",
       "      <td>0.525747</td>\n",
       "      <td>...</td>\n",
       "      <td>0</td>\n",
       "      <td>0</td>\n",
       "      <td>0</td>\n",
       "      <td>0</td>\n",
       "      <td>0</td>\n",
       "      <td>0</td>\n",
       "      <td>0</td>\n",
       "      <td>0</td>\n",
       "      <td>0</td>\n",
       "      <td>2426.0</td>\n",
       "    </tr>\n",
       "    <tr>\n",
       "      <th>3</th>\n",
       "      <td>336</td>\n",
       "      <td>131.0</td>\n",
       "      <td>189.0</td>\n",
       "      <td>41.0</td>\n",
       "      <td>273</td>\n",
       "      <td>189.0</td>\n",
       "      <td>194.0</td>\n",
       "      <td>391.0</td>\n",
       "      <td>0.571429</td>\n",
       "      <td>0.523781</td>\n",
       "      <td>...</td>\n",
       "      <td>0</td>\n",
       "      <td>0</td>\n",
       "      <td>0</td>\n",
       "      <td>0</td>\n",
       "      <td>0</td>\n",
       "      <td>0</td>\n",
       "      <td>0</td>\n",
       "      <td>0</td>\n",
       "      <td>1</td>\n",
       "      <td>2237.4</td>\n",
       "    </tr>\n",
       "    <tr>\n",
       "      <th>4</th>\n",
       "      <td>299</td>\n",
       "      <td>97.0</td>\n",
       "      <td>96.0</td>\n",
       "      <td>136.0</td>\n",
       "      <td>101</td>\n",
       "      <td>45.0</td>\n",
       "      <td>246.0</td>\n",
       "      <td>160.0</td>\n",
       "      <td>0.580000</td>\n",
       "      <td>0.524329</td>\n",
       "      <td>...</td>\n",
       "      <td>1</td>\n",
       "      <td>0</td>\n",
       "      <td>0</td>\n",
       "      <td>0</td>\n",
       "      <td>0</td>\n",
       "      <td>0</td>\n",
       "      <td>0</td>\n",
       "      <td>0</td>\n",
       "      <td>0</td>\n",
       "      <td>2390.0</td>\n",
       "    </tr>\n",
       "  </tbody>\n",
       "</table>\n",
       "<p>5 rows × 125 columns</p>\n",
       "</div>"
      ],
      "text/plain": [
       "   A1-level  A2-level  A3-level  A4-level  B1-level  B2-level  B3-level  \\\n",
       "0       139     118.0      13.0      10.0        28      26.0      68.0   \n",
       "1       198      77.0     198.0     123.0        83     118.0     168.0   \n",
       "2       114      68.0     225.0     107.0        50     163.0     160.0   \n",
       "3       336     131.0     189.0      41.0       273     189.0     194.0   \n",
       "4       299      97.0      96.0     136.0       101      45.0     246.0   \n",
       "\n",
       "   B4-level  enc_period  enc_game-ver   ...    poisonmist_B_count  \\\n",
       "0      31.0    0.515152      0.525161   ...                     0   \n",
       "1     151.0    0.466667      0.524499   ...                     0   \n",
       "2     126.0    0.600000      0.525747   ...                     0   \n",
       "3     391.0    0.571429      0.523781   ...                     0   \n",
       "4     160.0    0.580000      0.524329   ...                     1   \n",
       "\n",
       "   torpedo_A_count  torpedo_B_count  jumpbeacon_A_count  jumpbeacon_B_count  \\\n",
       "0                0                0                   0                   0   \n",
       "1                0                1                   0                   1   \n",
       "2                0                0                   0                   0   \n",
       "3                0                0                   0                   0   \n",
       "4                0                0                   0                   0   \n",
       "\n",
       "   tansanbomb_A_count  tansanbomb_B_count  trap_A_count  trap_B_count    size  \n",
       "0                   0                   0             1             0  2855.0  \n",
       "1                   0                   0             1             0  2391.0  \n",
       "2                   0                   0             0             0  2426.0  \n",
       "3                   0                   0             0             1  2237.4  \n",
       "4                   0                   0             0             0  2390.0  \n",
       "\n",
       "[5 rows x 125 columns]"
      ]
     },
     "execution_count": 5,
     "metadata": {},
     "output_type": "execute_result"
    }
   ],
   "source": [
    "X_train_all.head()"
   ]
  },
  {
   "cell_type": "code",
   "execution_count": 14,
   "metadata": {},
   "outputs": [
    {
     "data": {
      "text/plain": [
       "8        2\n",
       "12       2\n",
       "35       2\n",
       "72       2\n",
       "97       2\n",
       "102      2\n",
       "109      2\n",
       "145      2\n",
       "153      2\n",
       "158      2\n",
       "285      2\n",
       "307      2\n",
       "352      2\n",
       "383      2\n",
       "411      2\n",
       "480      2\n",
       "515      2\n",
       "539      2\n",
       "571      2\n",
       "616      2\n",
       "619      2\n",
       "623      2\n",
       "631      2\n",
       "677      2\n",
       "698      2\n",
       "778      2\n",
       "793      2\n",
       "907      2\n",
       "1009     2\n",
       "1012     2\n",
       "        ..\n",
       "65291    2\n",
       "65316    2\n",
       "65370    2\n",
       "65379    2\n",
       "65391    2\n",
       "65411    2\n",
       "65428    2\n",
       "65445    2\n",
       "65570    2\n",
       "65576    2\n",
       "65589    2\n",
       "65608    2\n",
       "65622    2\n",
       "65632    2\n",
       "65700    2\n",
       "65745    2\n",
       "65752    2\n",
       "65778    2\n",
       "65810    2\n",
       "65813    2\n",
       "65833    2\n",
       "65862    2\n",
       "65897    2\n",
       "65974    2\n",
       "65988    2\n",
       "66001    2\n",
       "66030    2\n",
       "66103    2\n",
       "66108    2\n",
       "66117    2\n",
       "Name: A_charger_count, Length: 1991, dtype: int64"
      ]
     },
     "execution_count": 14,
     "metadata": {},
     "output_type": "execute_result"
    }
   ],
   "source": [
    "X_train_all[X_train_all[\"A_charger_count\"] == 2][\"A_charger_count\"]"
   ]
  },
  {
   "cell_type": "code",
   "execution_count": null,
   "metadata": {},
   "outputs": [],
   "source": []
  },
  {
   "cell_type": "code",
   "execution_count": 6,
   "metadata": {},
   "outputs": [
    {
     "name": "stdout",
     "output_type": "stream",
     "text": [
      "Index(['A1-level', 'A2-level', 'A3-level', 'A4-level', 'B1-level', 'B2-level',\n",
      "       'B3-level', 'B4-level', 'enc_period', 'enc_game-ver',\n",
      "       ...\n",
      "       'poisonmist_B_count', 'torpedo_A_count', 'torpedo_B_count',\n",
      "       'jumpbeacon_A_count', 'jumpbeacon_B_count', 'tansanbomb_A_count',\n",
      "       'tansanbomb_B_count', 'trap_A_count', 'trap_B_count', 'size'],\n",
      "      dtype='object', length=125)\n",
      "Index(['A1-level', 'A2-level', 'A3-level', 'A4-level', 'B1-level', 'B2-level',\n",
      "       'B3-level', 'B4-level', 'enc_period', 'enc_game-ver',\n",
      "       ...\n",
      "       'poisonmist_B_count', 'torpedo_A_count', 'torpedo_B_count',\n",
      "       'jumpbeacon_A_count', 'jumpbeacon_B_count', 'tansanbomb_A_count',\n",
      "       'tansanbomb_B_count', 'trap_A_count', 'trap_B_count', 'size'],\n",
      "      dtype='object', length=125)\n"
     ]
    }
   ],
   "source": [
    "# 訓練データとテストデータの列を確認\n",
    "print(X_train_all.columns)\n",
    "print(X_test.columns)"
   ]
  },
  {
   "cell_type": "code",
   "execution_count": 7,
   "metadata": {},
   "outputs": [
    {
     "name": "stdout",
     "output_type": "stream",
     "text": [
      "(66125, 125)\n",
      "(28340, 125)\n"
     ]
    }
   ],
   "source": [
    "# 訓練データとテストデータの列を確認\n",
    "print(X_train_all.shape)\n",
    "print(X_test.shape)"
   ]
  },
  {
   "cell_type": "code",
   "execution_count": 12,
   "metadata": {},
   "outputs": [
    {
     "data": {
      "text/plain": [
       "0"
      ]
     },
     "execution_count": 12,
     "metadata": {},
     "output_type": "execute_result"
    }
   ],
   "source": [
    "#　訓練データに欠損がないことの確認\n",
    "X_train_all.isnull().sum().sum()"
   ]
  },
  {
   "cell_type": "code",
   "execution_count": 9,
   "metadata": {},
   "outputs": [
    {
     "data": {
      "text/plain": [
       "0"
      ]
     },
     "execution_count": 9,
     "metadata": {},
     "output_type": "execute_result"
    }
   ],
   "source": [
    "#　テストデータに欠損がないことの確認\n",
    "X_test.isnull().sum().sum()"
   ]
  },
  {
   "cell_type": "code",
   "execution_count": 10,
   "metadata": {},
   "outputs": [
    {
     "name": "stdout",
     "output_type": "stream",
     "text": [
      "-------------------train-------------------\n",
      "A1-level          0\n",
      "A2-level          0\n",
      "A3-level          0\n",
      "A4-level          0\n",
      "B1-level          0\n",
      "B2-level          0\n",
      "B3-level          0\n",
      "B4-level          0\n",
      "enc_period        0\n",
      "enc_game-ver      0\n",
      "enc_lobby-mode    0\n",
      "enc_lobby         0\n",
      "enc_mode          0\n",
      "enc_stage         0\n",
      "enc_A1-weapon     0\n",
      "enc_A1-rank       0\n",
      "enc_A2-weapon     0\n",
      "enc_A2-rank       0\n",
      "enc_A3-weapon     0\n",
      "enc_A3-rank       0\n",
      "enc_A4-weapon     0\n",
      "enc_A4-rank       0\n",
      "enc_B1-weapon     0\n",
      "enc_B1-rank       0\n",
      "enc_B2-weapon     0\n",
      "enc_B2-rank       0\n",
      "enc_B3-weapon     0\n",
      "enc_B3-rank       0\n",
      "enc_B4-weapon     0\n",
      "enc_B4-rank       0\n",
      "dtype: int64\n",
      "-------------------test-------------------\n",
      "A1-level          0\n",
      "A2-level          0\n",
      "A3-level          0\n",
      "A4-level          0\n",
      "B1-level          0\n",
      "B2-level          0\n",
      "B3-level          0\n",
      "B4-level          0\n",
      "enc_period        0\n",
      "enc_game-ver      0\n",
      "enc_lobby-mode    0\n",
      "enc_lobby         0\n",
      "enc_mode          0\n",
      "enc_stage         0\n",
      "enc_A1-weapon     0\n",
      "enc_A1-rank       0\n",
      "enc_A2-weapon     0\n",
      "enc_A2-rank       0\n",
      "enc_A3-weapon     0\n",
      "enc_A3-rank       0\n",
      "enc_A4-weapon     0\n",
      "enc_A4-rank       0\n",
      "enc_B1-weapon     0\n",
      "enc_B1-rank       0\n",
      "enc_B2-weapon     0\n",
      "enc_B2-rank       0\n",
      "enc_B3-weapon     0\n",
      "enc_B3-rank       0\n",
      "enc_B4-weapon     0\n",
      "enc_B4-rank       0\n",
      "dtype: int64\n"
     ]
    }
   ],
   "source": [
    "print(\"-------------------train-------------------\")\n",
    "print(X_train_all.isnull().sum())\n",
    "print(\"-------------------test-------------------\")\n",
    "print(X_test.isnull().sum())"
   ]
  },
  {
   "cell_type": "code",
   "execution_count": 14,
   "metadata": {},
   "outputs": [
    {
     "name": "stdout",
     "output_type": "stream",
     "text": [
      "<class 'pandas.core.frame.DataFrame'>\n",
      "RangeIndex: 28340 entries, 0 to 28339\n",
      "Data columns (total 30 columns):\n",
      "A1-level          28340 non-null int64\n",
      "A2-level          28340 non-null float64\n",
      "A3-level          28340 non-null float64\n",
      "A4-level          28340 non-null float64\n",
      "B1-level          28340 non-null int64\n",
      "B2-level          28340 non-null float64\n",
      "B3-level          28340 non-null float64\n",
      "B4-level          28340 non-null float64\n",
      "enc_period        28340 non-null float64\n",
      "enc_game-ver      28340 non-null float64\n",
      "enc_lobby-mode    28340 non-null float64\n",
      "enc_lobby         28340 non-null float64\n",
      "enc_mode          28340 non-null float64\n",
      "enc_stage         28340 non-null float64\n",
      "enc_A1-weapon     28340 non-null float64\n",
      "enc_A1-rank       28340 non-null float64\n",
      "enc_A2-weapon     28340 non-null float64\n",
      "enc_A2-rank       28340 non-null float64\n",
      "enc_A3-weapon     28340 non-null float64\n",
      "enc_A3-rank       28340 non-null float64\n",
      "enc_A4-weapon     28340 non-null float64\n",
      "enc_A4-rank       28340 non-null float64\n",
      "enc_B1-weapon     28340 non-null float64\n",
      "enc_B1-rank       28340 non-null float64\n",
      "enc_B2-weapon     28340 non-null float64\n",
      "enc_B2-rank       28340 non-null float64\n",
      "enc_B3-weapon     28340 non-null float64\n",
      "enc_B3-rank       28340 non-null float64\n",
      "enc_B4-weapon     28340 non-null float64\n",
      "enc_B4-rank       28340 non-null float64\n",
      "dtypes: float64(28), int64(2)\n",
      "memory usage: 6.5 MB\n"
     ]
    },
    {
     "data": {
      "text/plain": [
       "None"
      ]
     },
     "metadata": {},
     "output_type": "display_data"
    }
   ],
   "source": [
    "display(X_test.info())"
   ]
  },
  {
   "cell_type": "code",
   "execution_count": null,
   "metadata": {},
   "outputs": [],
   "source": []
  }
 ],
 "metadata": {
  "kernelspec": {
   "display_name": "Python 3",
   "language": "python",
   "name": "python3"
  },
  "language_info": {
   "codemirror_mode": {
    "name": "ipython",
    "version": 3
   },
   "file_extension": ".py",
   "mimetype": "text/x-python",
   "name": "python",
   "nbconvert_exporter": "python",
   "pygments_lexer": "ipython3",
   "version": "3.6.7"
  }
 },
 "nbformat": 4,
 "nbformat_minor": 2
}
