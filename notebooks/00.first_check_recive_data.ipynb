{
 "cells": [
  {
   "cell_type": "code",
   "execution_count": 1,
   "metadata": {},
   "outputs": [
    {
     "data": {
      "text/html": [
       "<style>.container { width:100% !important; }</style>"
      ],
      "text/plain": [
       "<IPython.core.display.HTML object>"
      ]
     },
     "metadata": {},
     "output_type": "display_data"
    }
   ],
   "source": [
    "from IPython.core.display import display, HTML \n",
    "display(HTML(\"<style>.container { width:100% !important; }</style>\"))\n",
    "from IPython.core.interactiveshell import InteractiveShell\n",
    "InteractiveShell.ast_node_interactivity = 'all'\n",
    "import pandas as pd\n",
    "import matplotlib.pyplot as plt\n",
    "import seaborn as sns\n",
    "import numpy as np\n",
    "\n",
    "%matplotlib inline"
   ]
  },
  {
   "cell_type": "code",
   "execution_count": 2,
   "metadata": {},
   "outputs": [],
   "source": [
    "def inspection_datas(df):\n",
    "    print('######################################')\n",
    "    print('①サイズ（行数、列数）の確認')\n",
    "    print(df.shape)\n",
    "    print('######################################')\n",
    "    print('②最初の５行の表示')\n",
    "    display(df.head())\n",
    "    print('######################################')\n",
    "    print('③各行のデータ型の確認（オブジェクト型の有無）')\n",
    "    display(df.info())\n",
    "    display(df.select_dtypes(include=object).columns)\n",
    "    print('######################################')\n",
    "    print('④各種統計値の確認（③で、Objectのものは統計されない）')\n",
    "    display(df.describe())\n",
    "    print('######################################')\n",
    "    print('➄欠損値がある列の確認')\n",
    "    null_df =df.isnull().sum()[df.columns[df.isnull().sum()!=0]]\n",
    "    display(null_df)\n",
    "    display(null_df.shape)\n",
    "    print('######################################')\n",
    "    print('⑥相関係数のヒートマップ')\n",
    "    sns.heatmap(df.corr())"
   ]
  },
  {
   "cell_type": "code",
   "execution_count": null,
   "metadata": {},
   "outputs": [],
   "source": []
  },
  {
   "cell_type": "code",
   "execution_count": 3,
   "metadata": {
    "collapsed": true
   },
   "outputs": [],
   "source": [
    "train = pd.read_csv(\"../data/input/train_data.csv\")\n",
    "test = pd.read_csv(\"../data/input/test_data.csv\")"
   ]
  },
  {
   "cell_type": "code",
   "execution_count": 4,
   "metadata": {
    "collapsed": true
   },
   "outputs": [
    {
     "name": "stdout",
     "output_type": "stream",
     "text": [
      "######################################\n",
      "①サイズ（行数、列数）の確認\n",
      "(66125, 32)\n",
      "######################################\n",
      "②最初の５行の表示\n"
     ]
    },
    {
     "data": {
      "text/html": [
       "<div>\n",
       "<style scoped>\n",
       "    .dataframe tbody tr th:only-of-type {\n",
       "        vertical-align: middle;\n",
       "    }\n",
       "\n",
       "    .dataframe tbody tr th {\n",
       "        vertical-align: top;\n",
       "    }\n",
       "\n",
       "    .dataframe thead th {\n",
       "        text-align: right;\n",
       "    }\n",
       "</style>\n",
       "<table border=\"1\" class=\"dataframe\">\n",
       "  <thead>\n",
       "    <tr style=\"text-align: right;\">\n",
       "      <th></th>\n",
       "      <th>id</th>\n",
       "      <th>period</th>\n",
       "      <th>game-ver</th>\n",
       "      <th>lobby-mode</th>\n",
       "      <th>lobby</th>\n",
       "      <th>mode</th>\n",
       "      <th>stage</th>\n",
       "      <th>A1-weapon</th>\n",
       "      <th>A1-rank</th>\n",
       "      <th>A1-level</th>\n",
       "      <th>...</th>\n",
       "      <th>B2-weapon</th>\n",
       "      <th>B2-rank</th>\n",
       "      <th>B2-level</th>\n",
       "      <th>B3-weapon</th>\n",
       "      <th>B3-rank</th>\n",
       "      <th>B3-level</th>\n",
       "      <th>B4-weapon</th>\n",
       "      <th>B4-rank</th>\n",
       "      <th>B4-level</th>\n",
       "      <th>y</th>\n",
       "    </tr>\n",
       "  </thead>\n",
       "  <tbody>\n",
       "    <tr>\n",
       "      <th>0</th>\n",
       "      <td>1</td>\n",
       "      <td>2019-10-15T20:00:00+00:00</td>\n",
       "      <td>5.0.1</td>\n",
       "      <td>regular</td>\n",
       "      <td>standard</td>\n",
       "      <td>nawabari</td>\n",
       "      <td>sumeshi</td>\n",
       "      <td>sshooter_becchu</td>\n",
       "      <td>NaN</td>\n",
       "      <td>139</td>\n",
       "      <td>...</td>\n",
       "      <td>hokusai_becchu</td>\n",
       "      <td>NaN</td>\n",
       "      <td>26.0</td>\n",
       "      <td>herocharger_replica</td>\n",
       "      <td>NaN</td>\n",
       "      <td>68.0</td>\n",
       "      <td>sharp_neo</td>\n",
       "      <td>NaN</td>\n",
       "      <td>31.0</td>\n",
       "      <td>1</td>\n",
       "    </tr>\n",
       "    <tr>\n",
       "      <th>1</th>\n",
       "      <td>2</td>\n",
       "      <td>2019-12-14T04:00:00+00:00</td>\n",
       "      <td>5.0.1</td>\n",
       "      <td>regular</td>\n",
       "      <td>standard</td>\n",
       "      <td>nawabari</td>\n",
       "      <td>arowana</td>\n",
       "      <td>parashelter_sorella</td>\n",
       "      <td>NaN</td>\n",
       "      <td>198</td>\n",
       "      <td>...</td>\n",
       "      <td>squiclean_b</td>\n",
       "      <td>NaN</td>\n",
       "      <td>118.0</td>\n",
       "      <td>campingshelter</td>\n",
       "      <td>NaN</td>\n",
       "      <td>168.0</td>\n",
       "      <td>sputtery_clear</td>\n",
       "      <td>NaN</td>\n",
       "      <td>151.0</td>\n",
       "      <td>0</td>\n",
       "    </tr>\n",
       "    <tr>\n",
       "      <th>2</th>\n",
       "      <td>3</td>\n",
       "      <td>2019-12-25T14:00:00+00:00</td>\n",
       "      <td>5.0.1</td>\n",
       "      <td>gachi</td>\n",
       "      <td>standard</td>\n",
       "      <td>hoko</td>\n",
       "      <td>ama</td>\n",
       "      <td>nzap89</td>\n",
       "      <td>a-</td>\n",
       "      <td>114</td>\n",
       "      <td>...</td>\n",
       "      <td>nzap85</td>\n",
       "      <td>a+</td>\n",
       "      <td>163.0</td>\n",
       "      <td>prime_becchu</td>\n",
       "      <td>a-</td>\n",
       "      <td>160.0</td>\n",
       "      <td>dualsweeper_custom</td>\n",
       "      <td>a</td>\n",
       "      <td>126.0</td>\n",
       "      <td>0</td>\n",
       "    </tr>\n",
       "    <tr>\n",
       "      <th>3</th>\n",
       "      <td>4</td>\n",
       "      <td>2019-11-11T14:00:00+00:00</td>\n",
       "      <td>5.0.1</td>\n",
       "      <td>regular</td>\n",
       "      <td>standard</td>\n",
       "      <td>nawabari</td>\n",
       "      <td>engawa</td>\n",
       "      <td>bamboo14mk1</td>\n",
       "      <td>NaN</td>\n",
       "      <td>336</td>\n",
       "      <td>...</td>\n",
       "      <td>liter4k</td>\n",
       "      <td>NaN</td>\n",
       "      <td>189.0</td>\n",
       "      <td>promodeler_mg</td>\n",
       "      <td>NaN</td>\n",
       "      <td>194.0</td>\n",
       "      <td>hotblaster_custom</td>\n",
       "      <td>NaN</td>\n",
       "      <td>391.0</td>\n",
       "      <td>0</td>\n",
       "    </tr>\n",
       "    <tr>\n",
       "      <th>4</th>\n",
       "      <td>5</td>\n",
       "      <td>2019-12-14T06:00:00+00:00</td>\n",
       "      <td>5.0.1</td>\n",
       "      <td>gachi</td>\n",
       "      <td>standard</td>\n",
       "      <td>hoko</td>\n",
       "      <td>chozame</td>\n",
       "      <td>bold_7</td>\n",
       "      <td>x</td>\n",
       "      <td>299</td>\n",
       "      <td>...</td>\n",
       "      <td>sputtery_hue</td>\n",
       "      <td>x</td>\n",
       "      <td>45.0</td>\n",
       "      <td>bucketslosher_soda</td>\n",
       "      <td>x</td>\n",
       "      <td>246.0</td>\n",
       "      <td>wakaba</td>\n",
       "      <td>x</td>\n",
       "      <td>160.0</td>\n",
       "      <td>1</td>\n",
       "    </tr>\n",
       "  </tbody>\n",
       "</table>\n",
       "<p>5 rows × 32 columns</p>\n",
       "</div>"
      ],
      "text/plain": [
       "   id                     period game-ver lobby-mode     lobby      mode  \\\n",
       "0   1  2019-10-15T20:00:00+00:00    5.0.1    regular  standard  nawabari   \n",
       "1   2  2019-12-14T04:00:00+00:00    5.0.1    regular  standard  nawabari   \n",
       "2   3  2019-12-25T14:00:00+00:00    5.0.1      gachi  standard      hoko   \n",
       "3   4  2019-11-11T14:00:00+00:00    5.0.1    regular  standard  nawabari   \n",
       "4   5  2019-12-14T06:00:00+00:00    5.0.1      gachi  standard      hoko   \n",
       "\n",
       "     stage            A1-weapon A1-rank  A1-level ...       B2-weapon B2-rank  \\\n",
       "0  sumeshi      sshooter_becchu     NaN       139 ...  hokusai_becchu     NaN   \n",
       "1  arowana  parashelter_sorella     NaN       198 ...     squiclean_b     NaN   \n",
       "2      ama               nzap89      a-       114 ...          nzap85      a+   \n",
       "3   engawa          bamboo14mk1     NaN       336 ...         liter4k     NaN   \n",
       "4  chozame               bold_7       x       299 ...    sputtery_hue       x   \n",
       "\n",
       "   B2-level            B3-weapon B3-rank  B3-level           B4-weapon  \\\n",
       "0      26.0  herocharger_replica     NaN      68.0           sharp_neo   \n",
       "1     118.0       campingshelter     NaN     168.0      sputtery_clear   \n",
       "2     163.0         prime_becchu      a-     160.0  dualsweeper_custom   \n",
       "3     189.0        promodeler_mg     NaN     194.0   hotblaster_custom   \n",
       "4      45.0   bucketslosher_soda       x     246.0              wakaba   \n",
       "\n",
       "  B4-rank  B4-level  y  \n",
       "0     NaN      31.0  1  \n",
       "1     NaN     151.0  0  \n",
       "2       a     126.0  0  \n",
       "3     NaN     391.0  0  \n",
       "4       x     160.0  1  \n",
       "\n",
       "[5 rows x 32 columns]"
      ]
     },
     "metadata": {},
     "output_type": "display_data"
    },
    {
     "name": "stdout",
     "output_type": "stream",
     "text": [
      "######################################\n",
      "③各行のデータ型の確認（オブジェクト型の有無）\n",
      "<class 'pandas.core.frame.DataFrame'>\n",
      "RangeIndex: 66125 entries, 0 to 66124\n",
      "Data columns (total 32 columns):\n",
      "id            66125 non-null int64\n",
      "period        66125 non-null object\n",
      "game-ver      66125 non-null object\n",
      "lobby-mode    66125 non-null object\n",
      "lobby         66125 non-null object\n",
      "mode          66125 non-null object\n",
      "stage         66125 non-null object\n",
      "A1-weapon     66125 non-null object\n",
      "A1-rank       51681 non-null object\n",
      "A1-level      66125 non-null int64\n",
      "A2-weapon     66125 non-null object\n",
      "A2-rank       51681 non-null object\n",
      "A2-level      66125 non-null float64\n",
      "A3-weapon     66125 non-null object\n",
      "A3-rank       51681 non-null object\n",
      "A3-level      66125 non-null float64\n",
      "A4-weapon     66074 non-null object\n",
      "A4-rank       51638 non-null object\n",
      "A4-level      66074 non-null float64\n",
      "B1-weapon     66125 non-null object\n",
      "B1-rank       51681 non-null object\n",
      "B1-level      66125 non-null int64\n",
      "B2-weapon     66125 non-null object\n",
      "B2-rank       51681 non-null object\n",
      "B2-level      66125 non-null float64\n",
      "B3-weapon     66124 non-null object\n",
      "B3-rank       51681 non-null object\n",
      "B3-level      66124 non-null float64\n",
      "B4-weapon     66058 non-null object\n",
      "B4-rank       51624 non-null object\n",
      "B4-level      66058 non-null float64\n",
      "y             66125 non-null int64\n",
      "dtypes: float64(6), int64(4), object(22)\n",
      "memory usage: 16.1+ MB\n"
     ]
    },
    {
     "data": {
      "text/plain": [
       "None"
      ]
     },
     "metadata": {},
     "output_type": "display_data"
    },
    {
     "data": {
      "text/plain": [
       "Index(['period', 'game-ver', 'lobby-mode', 'lobby', 'mode', 'stage',\n",
       "       'A1-weapon', 'A1-rank', 'A2-weapon', 'A2-rank', 'A3-weapon', 'A3-rank',\n",
       "       'A4-weapon', 'A4-rank', 'B1-weapon', 'B1-rank', 'B2-weapon', 'B2-rank',\n",
       "       'B3-weapon', 'B3-rank', 'B4-weapon', 'B4-rank'],\n",
       "      dtype='object')"
      ]
     },
     "metadata": {},
     "output_type": "display_data"
    },
    {
     "name": "stdout",
     "output_type": "stream",
     "text": [
      "######################################\n",
      "④各種統計値の確認（③で、Objectのものは統計されない）\n"
     ]
    },
    {
     "data": {
      "text/html": [
       "<div>\n",
       "<style scoped>\n",
       "    .dataframe tbody tr th:only-of-type {\n",
       "        vertical-align: middle;\n",
       "    }\n",
       "\n",
       "    .dataframe tbody tr th {\n",
       "        vertical-align: top;\n",
       "    }\n",
       "\n",
       "    .dataframe thead th {\n",
       "        text-align: right;\n",
       "    }\n",
       "</style>\n",
       "<table border=\"1\" class=\"dataframe\">\n",
       "  <thead>\n",
       "    <tr style=\"text-align: right;\">\n",
       "      <th></th>\n",
       "      <th>id</th>\n",
       "      <th>A1-level</th>\n",
       "      <th>A2-level</th>\n",
       "      <th>A3-level</th>\n",
       "      <th>A4-level</th>\n",
       "      <th>B1-level</th>\n",
       "      <th>B2-level</th>\n",
       "      <th>B3-level</th>\n",
       "      <th>B4-level</th>\n",
       "      <th>y</th>\n",
       "    </tr>\n",
       "  </thead>\n",
       "  <tbody>\n",
       "    <tr>\n",
       "      <th>count</th>\n",
       "      <td>66125.000000</td>\n",
       "      <td>66125.000000</td>\n",
       "      <td>66125.000000</td>\n",
       "      <td>66125.000000</td>\n",
       "      <td>66074.000000</td>\n",
       "      <td>66125.000000</td>\n",
       "      <td>66125.000000</td>\n",
       "      <td>66124.000000</td>\n",
       "      <td>66058.000000</td>\n",
       "      <td>66125.000000</td>\n",
       "    </tr>\n",
       "    <tr>\n",
       "      <th>mean</th>\n",
       "      <td>33063.000000</td>\n",
       "      <td>208.838926</td>\n",
       "      <td>155.351698</td>\n",
       "      <td>153.175229</td>\n",
       "      <td>156.001619</td>\n",
       "      <td>156.378722</td>\n",
       "      <td>152.764749</td>\n",
       "      <td>153.105393</td>\n",
       "      <td>157.869736</td>\n",
       "      <td>0.524703</td>\n",
       "    </tr>\n",
       "    <tr>\n",
       "      <th>std</th>\n",
       "      <td>19088.787612</td>\n",
       "      <td>118.986528</td>\n",
       "      <td>96.183950</td>\n",
       "      <td>95.470733</td>\n",
       "      <td>95.524571</td>\n",
       "      <td>97.109501</td>\n",
       "      <td>95.373534</td>\n",
       "      <td>94.891705</td>\n",
       "      <td>95.777647</td>\n",
       "      <td>0.499393</td>\n",
       "    </tr>\n",
       "    <tr>\n",
       "      <th>min</th>\n",
       "      <td>1.000000</td>\n",
       "      <td>1.000000</td>\n",
       "      <td>1.000000</td>\n",
       "      <td>1.000000</td>\n",
       "      <td>1.000000</td>\n",
       "      <td>1.000000</td>\n",
       "      <td>1.000000</td>\n",
       "      <td>1.000000</td>\n",
       "      <td>1.000000</td>\n",
       "      <td>0.000000</td>\n",
       "    </tr>\n",
       "    <tr>\n",
       "      <th>25%</th>\n",
       "      <td>16532.000000</td>\n",
       "      <td>120.000000</td>\n",
       "      <td>82.000000</td>\n",
       "      <td>80.000000</td>\n",
       "      <td>84.000000</td>\n",
       "      <td>83.000000</td>\n",
       "      <td>80.000000</td>\n",
       "      <td>81.000000</td>\n",
       "      <td>86.000000</td>\n",
       "      <td>0.000000</td>\n",
       "    </tr>\n",
       "    <tr>\n",
       "      <th>50%</th>\n",
       "      <td>33063.000000</td>\n",
       "      <td>188.000000</td>\n",
       "      <td>139.000000</td>\n",
       "      <td>137.000000</td>\n",
       "      <td>140.000000</td>\n",
       "      <td>139.000000</td>\n",
       "      <td>136.000000</td>\n",
       "      <td>137.000000</td>\n",
       "      <td>142.000000</td>\n",
       "      <td>1.000000</td>\n",
       "    </tr>\n",
       "    <tr>\n",
       "      <th>75%</th>\n",
       "      <td>49594.000000</td>\n",
       "      <td>277.000000</td>\n",
       "      <td>208.000000</td>\n",
       "      <td>205.000000</td>\n",
       "      <td>208.000000</td>\n",
       "      <td>210.000000</td>\n",
       "      <td>205.000000</td>\n",
       "      <td>205.000000</td>\n",
       "      <td>212.000000</td>\n",
       "      <td>1.000000</td>\n",
       "    </tr>\n",
       "    <tr>\n",
       "      <th>max</th>\n",
       "      <td>66125.000000</td>\n",
       "      <td>585.000000</td>\n",
       "      <td>913.000000</td>\n",
       "      <td>920.000000</td>\n",
       "      <td>931.000000</td>\n",
       "      <td>920.000000</td>\n",
       "      <td>913.000000</td>\n",
       "      <td>933.000000</td>\n",
       "      <td>936.000000</td>\n",
       "      <td>1.000000</td>\n",
       "    </tr>\n",
       "  </tbody>\n",
       "</table>\n",
       "</div>"
      ],
      "text/plain": [
       "                 id      A1-level      A2-level      A3-level      A4-level  \\\n",
       "count  66125.000000  66125.000000  66125.000000  66125.000000  66074.000000   \n",
       "mean   33063.000000    208.838926    155.351698    153.175229    156.001619   \n",
       "std    19088.787612    118.986528     96.183950     95.470733     95.524571   \n",
       "min        1.000000      1.000000      1.000000      1.000000      1.000000   \n",
       "25%    16532.000000    120.000000     82.000000     80.000000     84.000000   \n",
       "50%    33063.000000    188.000000    139.000000    137.000000    140.000000   \n",
       "75%    49594.000000    277.000000    208.000000    205.000000    208.000000   \n",
       "max    66125.000000    585.000000    913.000000    920.000000    931.000000   \n",
       "\n",
       "           B1-level      B2-level      B3-level      B4-level             y  \n",
       "count  66125.000000  66125.000000  66124.000000  66058.000000  66125.000000  \n",
       "mean     156.378722    152.764749    153.105393    157.869736      0.524703  \n",
       "std       97.109501     95.373534     94.891705     95.777647      0.499393  \n",
       "min        1.000000      1.000000      1.000000      1.000000      0.000000  \n",
       "25%       83.000000     80.000000     81.000000     86.000000      0.000000  \n",
       "50%      139.000000    136.000000    137.000000    142.000000      1.000000  \n",
       "75%      210.000000    205.000000    205.000000    212.000000      1.000000  \n",
       "max      920.000000    913.000000    933.000000    936.000000      1.000000  "
      ]
     },
     "metadata": {},
     "output_type": "display_data"
    },
    {
     "name": "stdout",
     "output_type": "stream",
     "text": [
      "######################################\n",
      "➄欠損値がある列の確認\n"
     ]
    },
    {
     "data": {
      "text/plain": [
       "A1-rank      14444\n",
       "A2-rank      14444\n",
       "A3-rank      14444\n",
       "A4-weapon       51\n",
       "A4-rank      14487\n",
       "A4-level        51\n",
       "B1-rank      14444\n",
       "B2-rank      14444\n",
       "B3-weapon        1\n",
       "B3-rank      14444\n",
       "B3-level         1\n",
       "B4-weapon       67\n",
       "B4-rank      14501\n",
       "B4-level        67\n",
       "dtype: int64"
      ]
     },
     "metadata": {},
     "output_type": "display_data"
    },
    {
     "data": {
      "text/plain": [
       "(14,)"
      ]
     },
     "metadata": {},
     "output_type": "display_data"
    },
    {
     "name": "stdout",
     "output_type": "stream",
     "text": [
      "######################################\n",
      "⑥相関係数のヒートマップ\n"
     ]
    },
    {
     "data": {
      "image/png": "[encoded data removed]",
      "text/plain": [
       "<Figure size 432x288 with 2 Axes>"
      ]
     },
     "metadata": {
      "needs_background": "light"
     },
     "output_type": "display_data"
    }
   ],
   "source": [
    "inspection_datas(train)"
   ]
  },
  {
   "cell_type": "code",
   "execution_count": 5,
   "metadata": {},
   "outputs": [
    {
     "name": "stdout",
     "output_type": "stream",
     "text": [
      "######################################\n",
      "①サイズ（行数、列数）の確認\n",
      "(28340, 31)\n",
      "######################################\n",
      "②最初の５行の表示\n"
     ]
    },
    {
     "data": {
      "text/html": [
       "<div>\n",
       "<style scoped>\n",
       "    .dataframe tbody tr th:only-of-type {\n",
       "        vertical-align: middle;\n",
       "    }\n",
       "\n",
       "    .dataframe tbody tr th {\n",
       "        vertical-align: top;\n",
       "    }\n",
       "\n",
       "    .dataframe thead th {\n",
       "        text-align: right;\n",
       "    }\n",
       "</style>\n",
       "<table border=\"1\" class=\"dataframe\">\n",
       "  <thead>\n",
       "    <tr style=\"text-align: right;\">\n",
       "      <th></th>\n",
       "      <th>id</th>\n",
       "      <th>period</th>\n",
       "      <th>game-ver</th>\n",
       "      <th>lobby-mode</th>\n",
       "      <th>lobby</th>\n",
       "      <th>mode</th>\n",
       "      <th>stage</th>\n",
       "      <th>A1-weapon</th>\n",
       "      <th>A1-rank</th>\n",
       "      <th>A1-level</th>\n",
       "      <th>...</th>\n",
       "      <th>B1-level</th>\n",
       "      <th>B2-weapon</th>\n",
       "      <th>B2-rank</th>\n",
       "      <th>B2-level</th>\n",
       "      <th>B3-weapon</th>\n",
       "      <th>B3-rank</th>\n",
       "      <th>B3-level</th>\n",
       "      <th>B4-weapon</th>\n",
       "      <th>B4-rank</th>\n",
       "      <th>B4-level</th>\n",
       "    </tr>\n",
       "  </thead>\n",
       "  <tbody>\n",
       "    <tr>\n",
       "      <th>0</th>\n",
       "      <td>1</td>\n",
       "      <td>2019-12-17T12:00:00+00:00</td>\n",
       "      <td>5.0.1</td>\n",
       "      <td>gachi</td>\n",
       "      <td>standard</td>\n",
       "      <td>area</td>\n",
       "      <td>hakofugu</td>\n",
       "      <td>prime_collabo</td>\n",
       "      <td>x</td>\n",
       "      <td>174</td>\n",
       "      <td>...</td>\n",
       "      <td>160</td>\n",
       "      <td>nautilus47</td>\n",
       "      <td>x</td>\n",
       "      <td>151.0</td>\n",
       "      <td>l3reelgun_d</td>\n",
       "      <td>x</td>\n",
       "      <td>213.0</td>\n",
       "      <td>nzap89</td>\n",
       "      <td>x</td>\n",
       "      <td>306.0</td>\n",
       "    </tr>\n",
       "    <tr>\n",
       "      <th>1</th>\n",
       "      <td>2</td>\n",
       "      <td>2019-11-25T16:00:00+00:00</td>\n",
       "      <td>5.0.1</td>\n",
       "      <td>gachi</td>\n",
       "      <td>standard</td>\n",
       "      <td>asari</td>\n",
       "      <td>anchovy</td>\n",
       "      <td>prime_becchu</td>\n",
       "      <td>s+</td>\n",
       "      <td>363</td>\n",
       "      <td>...</td>\n",
       "      <td>326</td>\n",
       "      <td>dualsweeper_custom</td>\n",
       "      <td>s+</td>\n",
       "      <td>289.0</td>\n",
       "      <td>prime_becchu</td>\n",
       "      <td>s+</td>\n",
       "      <td>147.0</td>\n",
       "      <td>splatroller</td>\n",
       "      <td>s+</td>\n",
       "      <td>156.0</td>\n",
       "    </tr>\n",
       "    <tr>\n",
       "      <th>2</th>\n",
       "      <td>3</td>\n",
       "      <td>2019-10-22T08:00:00+00:00</td>\n",
       "      <td>5.0.1</td>\n",
       "      <td>gachi</td>\n",
       "      <td>standard</td>\n",
       "      <td>area</td>\n",
       "      <td>mutsugoro</td>\n",
       "      <td>furo_deco</td>\n",
       "      <td>s</td>\n",
       "      <td>116</td>\n",
       "      <td>...</td>\n",
       "      <td>76</td>\n",
       "      <td>momiji</td>\n",
       "      <td>s</td>\n",
       "      <td>232.0</td>\n",
       "      <td>nzap83</td>\n",
       "      <td>s</td>\n",
       "      <td>183.0</td>\n",
       "      <td>promodeler_pg</td>\n",
       "      <td>s</td>\n",
       "      <td>105.0</td>\n",
       "    </tr>\n",
       "    <tr>\n",
       "      <th>3</th>\n",
       "      <td>4</td>\n",
       "      <td>2019-12-30T04:00:00+00:00</td>\n",
       "      <td>5.0.1</td>\n",
       "      <td>gachi</td>\n",
       "      <td>standard</td>\n",
       "      <td>asari</td>\n",
       "      <td>devon</td>\n",
       "      <td>prime_becchu</td>\n",
       "      <td>s+</td>\n",
       "      <td>192</td>\n",
       "      <td>...</td>\n",
       "      <td>90</td>\n",
       "      <td>quadhopper_black</td>\n",
       "      <td>s+</td>\n",
       "      <td>119.0</td>\n",
       "      <td>soytuber</td>\n",
       "      <td>s+</td>\n",
       "      <td>172.0</td>\n",
       "      <td>prime</td>\n",
       "      <td>s+</td>\n",
       "      <td>70.0</td>\n",
       "    </tr>\n",
       "    <tr>\n",
       "      <th>4</th>\n",
       "      <td>5</td>\n",
       "      <td>2019-10-15T16:00:00+00:00</td>\n",
       "      <td>5.0.1</td>\n",
       "      <td>gachi</td>\n",
       "      <td>standard</td>\n",
       "      <td>yagura</td>\n",
       "      <td>anchovy</td>\n",
       "      <td>l3reelgun_d</td>\n",
       "      <td>x</td>\n",
       "      <td>267</td>\n",
       "      <td>...</td>\n",
       "      <td>259</td>\n",
       "      <td>sshooter_becchu</td>\n",
       "      <td>x</td>\n",
       "      <td>198.0</td>\n",
       "      <td>splatscope</td>\n",
       "      <td>x</td>\n",
       "      <td>50.0</td>\n",
       "      <td>screwslosher_becchu</td>\n",
       "      <td>x</td>\n",
       "      <td>287.0</td>\n",
       "    </tr>\n",
       "  </tbody>\n",
       "</table>\n",
       "<p>5 rows × 31 columns</p>\n",
       "</div>"
      ],
      "text/plain": [
       "   id                     period game-ver lobby-mode     lobby    mode  \\\n",
       "0   1  2019-12-17T12:00:00+00:00    5.0.1      gachi  standard    area   \n",
       "1   2  2019-11-25T16:00:00+00:00    5.0.1      gachi  standard   asari   \n",
       "2   3  2019-10-22T08:00:00+00:00    5.0.1      gachi  standard    area   \n",
       "3   4  2019-12-30T04:00:00+00:00    5.0.1      gachi  standard   asari   \n",
       "4   5  2019-10-15T16:00:00+00:00    5.0.1      gachi  standard  yagura   \n",
       "\n",
       "       stage      A1-weapon A1-rank  A1-level   ...    B1-level  \\\n",
       "0   hakofugu  prime_collabo       x       174   ...         160   \n",
       "1    anchovy   prime_becchu      s+       363   ...         326   \n",
       "2  mutsugoro      furo_deco       s       116   ...          76   \n",
       "3      devon   prime_becchu      s+       192   ...          90   \n",
       "4    anchovy    l3reelgun_d       x       267   ...         259   \n",
       "\n",
       "            B2-weapon  B2-rank B2-level     B3-weapon  B3-rank B3-level  \\\n",
       "0          nautilus47        x    151.0   l3reelgun_d        x    213.0   \n",
       "1  dualsweeper_custom       s+    289.0  prime_becchu       s+    147.0   \n",
       "2              momiji        s    232.0        nzap83        s    183.0   \n",
       "3    quadhopper_black       s+    119.0      soytuber       s+    172.0   \n",
       "4     sshooter_becchu        x    198.0    splatscope        x     50.0   \n",
       "\n",
       "             B4-weapon  B4-rank B4-level  \n",
       "0               nzap89        x    306.0  \n",
       "1          splatroller       s+    156.0  \n",
       "2        promodeler_pg        s    105.0  \n",
       "3                prime       s+     70.0  \n",
       "4  screwslosher_becchu        x    287.0  \n",
       "\n",
       "[5 rows x 31 columns]"
      ]
     },
     "metadata": {},
     "output_type": "display_data"
    },
    {
     "name": "stdout",
     "output_type": "stream",
     "text": [
      "######################################\n",
      "③各行のデータ型の確認（オブジェクト型の有無）\n",
      "<class 'pandas.core.frame.DataFrame'>\n",
      "RangeIndex: 28340 entries, 0 to 28339\n",
      "Data columns (total 31 columns):\n",
      "id            28340 non-null int64\n",
      "period        28340 non-null object\n",
      "game-ver      28340 non-null object\n",
      "lobby-mode    28340 non-null object\n",
      "lobby         28340 non-null object\n",
      "mode          28340 non-null object\n",
      "stage         28340 non-null object\n",
      "A1-weapon     28340 non-null object\n",
      "A1-rank       22068 non-null object\n",
      "A1-level      28340 non-null int64\n",
      "A2-weapon     28340 non-null object\n",
      "A2-rank       22068 non-null object\n",
      "A2-level      28340 non-null float64\n",
      "A3-weapon     28340 non-null object\n",
      "A3-rank       22068 non-null object\n",
      "A3-level      28340 non-null float64\n",
      "A4-weapon     28325 non-null object\n",
      "A4-rank       22060 non-null object\n",
      "A4-level      28325 non-null float64\n",
      "B1-weapon     28340 non-null object\n",
      "B1-rank       22068 non-null object\n",
      "B1-level      28340 non-null int64\n",
      "B2-weapon     28340 non-null object\n",
      "B2-rank       22068 non-null object\n",
      "B2-level      28340 non-null float64\n",
      "B3-weapon     28339 non-null object\n",
      "B3-rank       22067 non-null object\n",
      "B3-level      28339 non-null float64\n",
      "B4-weapon     28310 non-null object\n",
      "B4-rank       22043 non-null object\n",
      "B4-level      28310 non-null float64\n",
      "dtypes: float64(6), int64(3), object(22)\n",
      "memory usage: 6.7+ MB\n"
     ]
    },
    {
     "data": {
      "text/plain": [
       "None"
      ]
     },
     "metadata": {},
     "output_type": "display_data"
    },
    {
     "data": {
      "text/plain": [
       "Index(['period', 'game-ver', 'lobby-mode', 'lobby', 'mode', 'stage',\n",
       "       'A1-weapon', 'A1-rank', 'A2-weapon', 'A2-rank', 'A3-weapon', 'A3-rank',\n",
       "       'A4-weapon', 'A4-rank', 'B1-weapon', 'B1-rank', 'B2-weapon', 'B2-rank',\n",
       "       'B3-weapon', 'B3-rank', 'B4-weapon', 'B4-rank'],\n",
       "      dtype='object')"
      ]
     },
     "metadata": {},
     "output_type": "display_data"
    },
    {
     "name": "stdout",
     "output_type": "stream",
     "text": [
      "######################################\n",
      "④各種統計値の確認（③で、Objectのものは統計されない）\n"
     ]
    },
    {
     "data": {
      "text/html": [
       "<div>\n",
       "<style scoped>\n",
       "    .dataframe tbody tr th:only-of-type {\n",
       "        vertical-align: middle;\n",
       "    }\n",
       "\n",
       "    .dataframe tbody tr th {\n",
       "        vertical-align: top;\n",
       "    }\n",
       "\n",
       "    .dataframe thead th {\n",
       "        text-align: right;\n",
       "    }\n",
       "</style>\n",
       "<table border=\"1\" class=\"dataframe\">\n",
       "  <thead>\n",
       "    <tr style=\"text-align: right;\">\n",
       "      <th></th>\n",
       "      <th>id</th>\n",
       "      <th>A1-level</th>\n",
       "      <th>A2-level</th>\n",
       "      <th>A3-level</th>\n",
       "      <th>A4-level</th>\n",
       "      <th>B1-level</th>\n",
       "      <th>B2-level</th>\n",
       "      <th>B3-level</th>\n",
       "      <th>B4-level</th>\n",
       "    </tr>\n",
       "  </thead>\n",
       "  <tbody>\n",
       "    <tr>\n",
       "      <th>count</th>\n",
       "      <td>28340.000000</td>\n",
       "      <td>28340.000000</td>\n",
       "      <td>28340.000000</td>\n",
       "      <td>28340.000000</td>\n",
       "      <td>28325.000000</td>\n",
       "      <td>28340.000000</td>\n",
       "      <td>28340.000000</td>\n",
       "      <td>28339.000000</td>\n",
       "      <td>28310.000000</td>\n",
       "    </tr>\n",
       "    <tr>\n",
       "      <th>mean</th>\n",
       "      <td>14170.500000</td>\n",
       "      <td>208.422442</td>\n",
       "      <td>154.656775</td>\n",
       "      <td>152.615243</td>\n",
       "      <td>155.381112</td>\n",
       "      <td>157.107975</td>\n",
       "      <td>152.772159</td>\n",
       "      <td>153.150605</td>\n",
       "      <td>155.590639</td>\n",
       "    </tr>\n",
       "    <tr>\n",
       "      <th>std</th>\n",
       "      <td>8181.197651</td>\n",
       "      <td>118.524539</td>\n",
       "      <td>95.891737</td>\n",
       "      <td>95.340817</td>\n",
       "      <td>95.322131</td>\n",
       "      <td>97.777439</td>\n",
       "      <td>95.402388</td>\n",
       "      <td>94.869887</td>\n",
       "      <td>94.481906</td>\n",
       "    </tr>\n",
       "    <tr>\n",
       "      <th>min</th>\n",
       "      <td>1.000000</td>\n",
       "      <td>1.000000</td>\n",
       "      <td>1.000000</td>\n",
       "      <td>1.000000</td>\n",
       "      <td>1.000000</td>\n",
       "      <td>2.000000</td>\n",
       "      <td>1.000000</td>\n",
       "      <td>1.000000</td>\n",
       "      <td>1.000000</td>\n",
       "    </tr>\n",
       "    <tr>\n",
       "      <th>25%</th>\n",
       "      <td>7085.750000</td>\n",
       "      <td>120.000000</td>\n",
       "      <td>81.000000</td>\n",
       "      <td>80.000000</td>\n",
       "      <td>84.000000</td>\n",
       "      <td>83.000000</td>\n",
       "      <td>79.000000</td>\n",
       "      <td>81.000000</td>\n",
       "      <td>85.000000</td>\n",
       "    </tr>\n",
       "    <tr>\n",
       "      <th>50%</th>\n",
       "      <td>14170.500000</td>\n",
       "      <td>188.000000</td>\n",
       "      <td>138.000000</td>\n",
       "      <td>136.000000</td>\n",
       "      <td>139.000000</td>\n",
       "      <td>139.000000</td>\n",
       "      <td>136.000000</td>\n",
       "      <td>136.000000</td>\n",
       "      <td>140.000000</td>\n",
       "    </tr>\n",
       "    <tr>\n",
       "      <th>75%</th>\n",
       "      <td>21255.250000</td>\n",
       "      <td>277.000000</td>\n",
       "      <td>207.000000</td>\n",
       "      <td>205.000000</td>\n",
       "      <td>207.000000</td>\n",
       "      <td>211.000000</td>\n",
       "      <td>206.000000</td>\n",
       "      <td>205.000000</td>\n",
       "      <td>208.000000</td>\n",
       "    </tr>\n",
       "    <tr>\n",
       "      <th>max</th>\n",
       "      <td>28340.000000</td>\n",
       "      <td>584.000000</td>\n",
       "      <td>838.000000</td>\n",
       "      <td>718.000000</td>\n",
       "      <td>933.000000</td>\n",
       "      <td>920.000000</td>\n",
       "      <td>931.000000</td>\n",
       "      <td>931.000000</td>\n",
       "      <td>930.000000</td>\n",
       "    </tr>\n",
       "  </tbody>\n",
       "</table>\n",
       "</div>"
      ],
      "text/plain": [
       "                 id      A1-level      A2-level      A3-level      A4-level  \\\n",
       "count  28340.000000  28340.000000  28340.000000  28340.000000  28325.000000   \n",
       "mean   14170.500000    208.422442    154.656775    152.615243    155.381112   \n",
       "std     8181.197651    118.524539     95.891737     95.340817     95.322131   \n",
       "min        1.000000      1.000000      1.000000      1.000000      1.000000   \n",
       "25%     7085.750000    120.000000     81.000000     80.000000     84.000000   \n",
       "50%    14170.500000    188.000000    138.000000    136.000000    139.000000   \n",
       "75%    21255.250000    277.000000    207.000000    205.000000    207.000000   \n",
       "max    28340.000000    584.000000    838.000000    718.000000    933.000000   \n",
       "\n",
       "           B1-level      B2-level      B3-level      B4-level  \n",
       "count  28340.000000  28340.000000  28339.000000  28310.000000  \n",
       "mean     157.107975    152.772159    153.150605    155.590639  \n",
       "std       97.777439     95.402388     94.869887     94.481906  \n",
       "min        2.000000      1.000000      1.000000      1.000000  \n",
       "25%       83.000000     79.000000     81.000000     85.000000  \n",
       "50%      139.000000    136.000000    136.000000    140.000000  \n",
       "75%      211.000000    206.000000    205.000000    208.000000  \n",
       "max      920.000000    931.000000    931.000000    930.000000  "
      ]
     },
     "metadata": {},
     "output_type": "display_data"
    },
    {
     "name": "stdout",
     "output_type": "stream",
     "text": [
      "######################################\n",
      "➄欠損値がある列の確認\n"
     ]
    },
    {
     "data": {
      "text/plain": [
       "A1-rank      6272\n",
       "A2-rank      6272\n",
       "A3-rank      6272\n",
       "A4-weapon      15\n",
       "A4-rank      6280\n",
       "A4-level       15\n",
       "B1-rank      6272\n",
       "B2-rank      6272\n",
       "B3-weapon       1\n",
       "B3-rank      6273\n",
       "B3-level        1\n",
       "B4-weapon      30\n",
       "B4-rank      6297\n",
       "B4-level       30\n",
       "dtype: int64"
      ]
     },
     "metadata": {},
     "output_type": "display_data"
    },
    {
     "data": {
      "text/plain": [
       "(14,)"
      ]
     },
     "metadata": {},
     "output_type": "display_data"
    },
    {
     "name": "stdout",
     "output_type": "stream",
     "text": [
      "######################################\n",
      "⑥相関係数のヒートマップ\n"
     ]
    },
    {
     "data": {
      "image/png": "[encoded data removed]",
      "text/plain": [
       "<Figure size 432x288 with 2 Axes>"
      ]
     },
     "metadata": {
      "needs_background": "light"
     },
     "output_type": "display_data"
    }
   ],
   "source": [
    "inspection_datas(test)"
   ]
  },
  {
   "cell_type": "code",
   "execution_count": 6,
   "metadata": {},
   "outputs": [
    {
     "name": "stdout",
     "output_type": "stream",
     "text": [
      "-------------------train-------------------\n",
      "id                0\n",
      "period            0\n",
      "game-ver          0\n",
      "lobby-mode        0\n",
      "lobby             0\n",
      "mode              0\n",
      "stage             0\n",
      "A1-weapon         0\n",
      "A1-rank       14444\n",
      "A1-level          0\n",
      "A2-weapon         0\n",
      "A2-rank       14444\n",
      "A2-level          0\n",
      "A3-weapon         0\n",
      "A3-rank       14444\n",
      "A3-level          0\n",
      "A4-weapon        51\n",
      "A4-rank       14487\n",
      "A4-level         51\n",
      "B1-weapon         0\n",
      "B1-rank       14444\n",
      "B1-level          0\n",
      "B2-weapon         0\n",
      "B2-rank       14444\n",
      "B2-level          0\n",
      "B3-weapon         1\n",
      "B3-rank       14444\n",
      "B3-level          1\n",
      "B4-weapon        67\n",
      "B4-rank       14501\n",
      "B4-level         67\n",
      "y                 0\n",
      "dtype: int64\n",
      "-------------------test-------------------\n",
      "id               0\n",
      "period           0\n",
      "game-ver         0\n",
      "lobby-mode       0\n",
      "lobby            0\n",
      "mode             0\n",
      "stage            0\n",
      "A1-weapon        0\n",
      "A1-rank       6272\n",
      "A1-level         0\n",
      "A2-weapon        0\n",
      "A2-rank       6272\n",
      "A2-level         0\n",
      "A3-weapon        0\n",
      "A3-rank       6272\n",
      "A3-level         0\n",
      "A4-weapon       15\n",
      "A4-rank       6280\n",
      "A4-level        15\n",
      "B1-weapon        0\n",
      "B1-rank       6272\n",
      "B1-level         0\n",
      "B2-weapon        0\n",
      "B2-rank       6272\n",
      "B2-level         0\n",
      "B3-weapon        1\n",
      "B3-rank       6273\n",
      "B3-level         1\n",
      "B4-weapon       30\n",
      "B4-rank       6297\n",
      "B4-level        30\n",
      "dtype: int64\n"
     ]
    }
   ],
   "source": [
    "print(\"-------------------train-------------------\")\n",
    "print(train.isnull().sum())\n",
    "print(\"-------------------test-------------------\")\n",
    "print(test.isnull().sum())"
   ]
  },
  {
   "cell_type": "code",
   "execution_count": null,
   "metadata": {},
   "outputs": [],
   "source": []
  },
  {
   "cell_type": "markdown",
   "metadata": {},
   "source": [
    "## game-verのチェック"
   ]
  },
  {
   "cell_type": "code",
   "execution_count": 8,
   "metadata": {},
   "outputs": [
    {
     "data": {
      "text/plain": [
       "array(['5.0.1'], dtype=object)"
      ]
     },
     "execution_count": 8,
     "metadata": {},
     "output_type": "execute_result"
    }
   ],
   "source": [
    "train[\"game-ver\"].unique()"
   ]
  },
  {
   "cell_type": "code",
   "execution_count": 9,
   "metadata": {},
   "outputs": [
    {
     "data": {
      "text/plain": [
       "array(['5.0.1'], dtype=object)"
      ]
     },
     "execution_count": 9,
     "metadata": {},
     "output_type": "execute_result"
    }
   ],
   "source": [
    "test[\"game-ver\"].unique()"
   ]
  },
  {
   "cell_type": "code",
   "execution_count": null,
   "metadata": {},
   "outputs": [],
   "source": []
  },
  {
   "cell_type": "markdown",
   "metadata": {},
   "source": [
    "# modeのチェック"
   ]
  },
  {
   "cell_type": "code",
   "execution_count": 10,
   "metadata": {},
   "outputs": [
    {
     "data": {
      "text/plain": [
       "mode\n",
       "area        14753\n",
       "asari       10363\n",
       "hoko        13585\n",
       "nawabari    14444\n",
       "yagura      12980\n",
       "Name: id, dtype: int64"
      ]
     },
     "execution_count": 10,
     "metadata": {},
     "output_type": "execute_result"
    }
   ],
   "source": [
    "train.groupby(\"mode\")[\"id\"].count()"
   ]
  },
  {
   "cell_type": "code",
   "execution_count": 11,
   "metadata": {},
   "outputs": [
    {
     "data": {
      "text/plain": [
       "mode\n",
       "area        6370\n",
       "asari       4264\n",
       "hoko        5891\n",
       "nawabari    6272\n",
       "yagura      5543\n",
       "Name: id, dtype: int64"
      ]
     },
     "execution_count": 11,
     "metadata": {},
     "output_type": "execute_result"
    }
   ],
   "source": [
    "test.groupby(\"mode\")[\"id\"].count()"
   ]
  },
  {
   "cell_type": "code",
   "execution_count": null,
   "metadata": {},
   "outputs": [],
   "source": []
  },
  {
   "cell_type": "markdown",
   "metadata": {},
   "source": [
    "# rank"
   ]
  },
  {
   "cell_type": "code",
   "execution_count": 52,
   "metadata": {},
   "outputs": [],
   "source": [
    "# C-→C→C+→B-→B→B+→A-→A→A+→S→S+→X\n",
    "\n",
    "def view_countplot(pdf, column):\n",
    "    rk_order = {'c-' : 0, 'c' : 1, 'c+' : 2, 'b-' : 3,'b' : 4, 'b+' : 5, 'a-' : 6, 'a' : 7, 'a+' : 8, 's' : 9, 's+' : 10, 'x' : 11}\n",
    "    pdf['order'] = pdf[column].map(rk_order)\n",
    "    ax = sns.countplot(column, data = pdf.sort_values('order'))"
   ]
  },
  {
   "cell_type": "code",
   "execution_count": 53,
   "metadata": {},
   "outputs": [
    {
     "data": {
      "image/png": "[encoded data removed]",
      "text/plain": [
       "<Figure size 432x288 with 1 Axes>"
      ]
     },
     "metadata": {
      "needs_background": "light"
     },
     "output_type": "display_data"
    }
   ],
   "source": [
    "view_countplot(train, \"A1-rank\")"
   ]
  },
  {
   "cell_type": "code",
   "execution_count": 54,
   "metadata": {},
   "outputs": [
    {
     "data": {
      "image/png": "[encoded data removed]",
      "text/plain": [
       "<Figure size 432x288 with 1 Axes>"
      ]
     },
     "metadata": {
      "needs_background": "light"
     },
     "output_type": "display_data"
    }
   ],
   "source": [
    "view_countplot(train, \"A2-rank\")"
   ]
  },
  {
   "cell_type": "code",
   "execution_count": 55,
   "metadata": {},
   "outputs": [
    {
     "data": {
      "image/png": "[encoded data removed]",
      "text/plain": [
       "<Figure size 432x288 with 1 Axes>"
      ]
     },
     "metadata": {
      "needs_background": "light"
     },
     "output_type": "display_data"
    }
   ],
   "source": [
    "view_countplot(train, \"A3-rank\")"
   ]
  },
  {
   "cell_type": "code",
   "execution_count": 56,
   "metadata": {},
   "outputs": [
    {
     "data": {
      "image/png": "[encoded data removed]",
      "text/plain": [
       "<Figure size 432x288 with 1 Axes>"
      ]
     },
     "metadata": {
      "needs_background": "light"
     },
     "output_type": "display_data"
    }
   ],
   "source": [
    "view_countplot(train, \"A4-rank\")"
   ]
  },
  {
   "cell_type": "code",
   "execution_count": null,
   "metadata": {},
   "outputs": [],
   "source": []
  },
  {
   "cell_type": "code",
   "execution_count": 57,
   "metadata": {},
   "outputs": [
    {
     "data": {
      "image/png": "[encoded data removed]",
      "text/plain": [
       "<Figure size 432x288 with 1 Axes>"
      ]
     },
     "metadata": {
      "needs_background": "light"
     },
     "output_type": "display_data"
    }
   ],
   "source": [
    "view_countplot(train, \"B1-rank\")"
   ]
  },
  {
   "cell_type": "code",
   "execution_count": 58,
   "metadata": {},
   "outputs": [
    {
     "data": {
      "image/png": "[encoded data removed]",
      "text/plain": [
       "<Figure size 432x288 with 1 Axes>"
      ]
     },
     "metadata": {
      "needs_background": "light"
     },
     "output_type": "display_data"
    }
   ],
   "source": [
    "view_countplot(train, \"B2-rank\")"
   ]
  },
  {
   "cell_type": "code",
   "execution_count": 59,
   "metadata": {},
   "outputs": [
    {
     "data": {
      "image/png": "[encoded data removed]",
      "text/plain": [
       "<Figure size 432x288 with 1 Axes>"
      ]
     },
     "metadata": {
      "needs_background": "light"
     },
     "output_type": "display_data"
    }
   ],
   "source": [
    "view_countplot(train, \"B3-rank\")"
   ]
  },
  {
   "cell_type": "code",
   "execution_count": 60,
   "metadata": {},
   "outputs": [
    {
     "data": {
      "image/png": "[encoded data removed]",
      "text/plain": [
       "<Figure size 432x288 with 1 Axes>"
      ]
     },
     "metadata": {
      "needs_background": "light"
     },
     "output_type": "display_data"
    }
   ],
   "source": [
    "view_countplot(train, \"B4-rank\")"
   ]
  },
  {
   "cell_type": "code",
   "execution_count": null,
   "metadata": {},
   "outputs": [],
   "source": []
  }
 ],
 "metadata": {
  "kernelspec": {
   "display_name": "Python 3",
   "language": "python",
   "name": "python3"
  },
  "language_info": {
   "codemirror_mode": {
    "name": "ipython",
    "version": 3
   },
   "file_extension": ".py",
   "mimetype": "text/x-python",
   "name": "python",
   "nbconvert_exporter": "python",
   "pygments_lexer": "ipython3",
   "version": "3.6.7"
  }
 },
 "nbformat": 4,
 "nbformat_minor": 2
}
