{
 "cells": [
  {
   "cell_type": "code",
   "execution_count": 1,
   "metadata": {},
   "outputs": [],
   "source": [
    "import pandas as pd\n",
    "import datetime\n",
    "import logging\n",
    "from sklearn.model_selection import KFold\n",
    "import argparse\n",
    "import json\n",
    "import numpy as np\n",
    "\n",
    "import sys\n",
    "sys.path.append('..')\n",
    "from utils import load_datasets, load_target\n",
    "from logs.logger import log_best\n",
    "from models.lgbm import train_and_predict\n",
    "import os\n",
    "os.chdir('../')\n",
    "\n",
    "%matplotlib inline"
   ]
  },
  {
   "cell_type": "code",
   "execution_count": 2,
   "metadata": {},
   "outputs": [
    {
     "data": {
      "text/plain": [
       "'C:\\\\Users\\\\takuy\\\\work\\\\work_tokumoto\\\\splatoon_competition'"
      ]
     },
     "execution_count": 2,
     "metadata": {},
     "output_type": "execute_result"
    }
   ],
   "source": [
    "os.getcwd()"
   ]
  },
  {
   "cell_type": "code",
   "execution_count": null,
   "metadata": {},
   "outputs": [],
   "source": []
  },
  {
   "cell_type": "code",
   "execution_count": 3,
   "metadata": {},
   "outputs": [],
   "source": [
    "parser = argparse.ArgumentParser()\n",
    "parser.add_argument('--config', default='./configs/default.json')\n",
    "options = parser.parse_args(args=[])\n",
    "config = json.load(open(options.config))\n",
    "\n",
    "feats = config['features']\n",
    "logging.debug(feats)\n",
    "\n",
    "target_name = config['target_name']"
   ]
  },
  {
   "cell_type": "code",
   "execution_count": 4,
   "metadata": {},
   "outputs": [],
   "source": [
    "X_train_all, X_test = load_datasets(feats, target_name)\n",
    "y_train_all = load_target(target_name)"
   ]
  },
  {
   "cell_type": "code",
   "execution_count": null,
   "metadata": {},
   "outputs": [],
   "source": []
  },
  {
   "cell_type": "code",
   "execution_count": null,
   "metadata": {},
   "outputs": [],
   "source": []
  },
  {
   "cell_type": "code",
   "execution_count": 5,
   "metadata": {},
   "outputs": [
    {
     "data": {
      "text/html": [
       "<div>\n",
       "<style scoped>\n",
       "    .dataframe tbody tr th:only-of-type {\n",
       "        vertical-align: middle;\n",
       "    }\n",
       "\n",
       "    .dataframe tbody tr th {\n",
       "        vertical-align: top;\n",
       "    }\n",
       "\n",
       "    .dataframe thead th {\n",
       "        text-align: right;\n",
       "    }\n",
       "</style>\n",
       "<table border=\"1\" class=\"dataframe\">\n",
       "  <thead>\n",
       "    <tr style=\"text-align: right;\">\n",
       "      <th></th>\n",
       "      <th>A1-level</th>\n",
       "      <th>A2-level</th>\n",
       "      <th>A3-level</th>\n",
       "      <th>A4-level</th>\n",
       "      <th>B1-level</th>\n",
       "      <th>B2-level</th>\n",
       "      <th>B3-level</th>\n",
       "      <th>B4-level</th>\n",
       "      <th>enc_period</th>\n",
       "      <th>enc_game-ver</th>\n",
       "      <th>...</th>\n",
       "      <th>enc_A4-weapon</th>\n",
       "      <th>enc_A4-rank</th>\n",
       "      <th>enc_B1-weapon</th>\n",
       "      <th>enc_B1-rank</th>\n",
       "      <th>enc_B2-weapon</th>\n",
       "      <th>enc_B2-rank</th>\n",
       "      <th>enc_B3-weapon</th>\n",
       "      <th>enc_B3-rank</th>\n",
       "      <th>enc_B4-weapon</th>\n",
       "      <th>enc_B4-rank</th>\n",
       "    </tr>\n",
       "  </thead>\n",
       "  <tbody>\n",
       "    <tr>\n",
       "      <th>0</th>\n",
       "      <td>139</td>\n",
       "      <td>118.0</td>\n",
       "      <td>13.0</td>\n",
       "      <td>10.0</td>\n",
       "      <td>28</td>\n",
       "      <td>26.0</td>\n",
       "      <td>68.0</td>\n",
       "      <td>31.0</td>\n",
       "      <td>0.515152</td>\n",
       "      <td>0.525161</td>\n",
       "      <td>...</td>\n",
       "      <td>0.530612</td>\n",
       "      <td>0.554801</td>\n",
       "      <td>0.501116</td>\n",
       "      <td>0.556006</td>\n",
       "      <td>0.570447</td>\n",
       "      <td>0.556006</td>\n",
       "      <td>0.598246</td>\n",
       "      <td>0.556006</td>\n",
       "      <td>0.498008</td>\n",
       "      <td>0.557492</td>\n",
       "    </tr>\n",
       "    <tr>\n",
       "      <th>1</th>\n",
       "      <td>198</td>\n",
       "      <td>77.0</td>\n",
       "      <td>198.0</td>\n",
       "      <td>123.0</td>\n",
       "      <td>83</td>\n",
       "      <td>118.0</td>\n",
       "      <td>168.0</td>\n",
       "      <td>151.0</td>\n",
       "      <td>0.466667</td>\n",
       "      <td>0.524499</td>\n",
       "      <td>...</td>\n",
       "      <td>0.542091</td>\n",
       "      <td>0.554401</td>\n",
       "      <td>0.503333</td>\n",
       "      <td>0.555556</td>\n",
       "      <td>0.585821</td>\n",
       "      <td>0.555556</td>\n",
       "      <td>0.592000</td>\n",
       "      <td>0.555556</td>\n",
       "      <td>0.516249</td>\n",
       "      <td>0.556777</td>\n",
       "    </tr>\n",
       "    <tr>\n",
       "      <th>2</th>\n",
       "      <td>114</td>\n",
       "      <td>68.0</td>\n",
       "      <td>225.0</td>\n",
       "      <td>107.0</td>\n",
       "      <td>50</td>\n",
       "      <td>163.0</td>\n",
       "      <td>160.0</td>\n",
       "      <td>126.0</td>\n",
       "      <td>0.600000</td>\n",
       "      <td>0.525747</td>\n",
       "      <td>...</td>\n",
       "      <td>0.504202</td>\n",
       "      <td>0.531184</td>\n",
       "      <td>0.493896</td>\n",
       "      <td>0.526357</td>\n",
       "      <td>0.505183</td>\n",
       "      <td>0.530684</td>\n",
       "      <td>0.512195</td>\n",
       "      <td>0.542117</td>\n",
       "      <td>0.529514</td>\n",
       "      <td>0.525678</td>\n",
       "    </tr>\n",
       "    <tr>\n",
       "      <th>3</th>\n",
       "      <td>336</td>\n",
       "      <td>131.0</td>\n",
       "      <td>189.0</td>\n",
       "      <td>41.0</td>\n",
       "      <td>273</td>\n",
       "      <td>189.0</td>\n",
       "      <td>194.0</td>\n",
       "      <td>391.0</td>\n",
       "      <td>0.571429</td>\n",
       "      <td>0.523781</td>\n",
       "      <td>...</td>\n",
       "      <td>0.529047</td>\n",
       "      <td>0.552484</td>\n",
       "      <td>0.584475</td>\n",
       "      <td>0.553457</td>\n",
       "      <td>0.579299</td>\n",
       "      <td>0.553457</td>\n",
       "      <td>0.488304</td>\n",
       "      <td>0.553457</td>\n",
       "      <td>0.552743</td>\n",
       "      <td>0.554913</td>\n",
       "    </tr>\n",
       "    <tr>\n",
       "      <th>4</th>\n",
       "      <td>299</td>\n",
       "      <td>97.0</td>\n",
       "      <td>96.0</td>\n",
       "      <td>136.0</td>\n",
       "      <td>101</td>\n",
       "      <td>45.0</td>\n",
       "      <td>246.0</td>\n",
       "      <td>160.0</td>\n",
       "      <td>0.580000</td>\n",
       "      <td>0.524329</td>\n",
       "      <td>...</td>\n",
       "      <td>0.536270</td>\n",
       "      <td>0.519280</td>\n",
       "      <td>0.519149</td>\n",
       "      <td>0.518985</td>\n",
       "      <td>0.483444</td>\n",
       "      <td>0.518985</td>\n",
       "      <td>0.513580</td>\n",
       "      <td>0.518985</td>\n",
       "      <td>0.499267</td>\n",
       "      <td>0.518624</td>\n",
       "    </tr>\n",
       "  </tbody>\n",
       "</table>\n",
       "<p>5 rows × 30 columns</p>\n",
       "</div>"
      ],
      "text/plain": [
       "   A1-level  A2-level  A3-level  A4-level  B1-level  B2-level  B3-level  \\\n",
       "0       139     118.0      13.0      10.0        28      26.0      68.0   \n",
       "1       198      77.0     198.0     123.0        83     118.0     168.0   \n",
       "2       114      68.0     225.0     107.0        50     163.0     160.0   \n",
       "3       336     131.0     189.0      41.0       273     189.0     194.0   \n",
       "4       299      97.0      96.0     136.0       101      45.0     246.0   \n",
       "\n",
       "   B4-level  enc_period  enc_game-ver     ...       enc_A4-weapon  \\\n",
       "0      31.0    0.515152      0.525161     ...            0.530612   \n",
       "1     151.0    0.466667      0.524499     ...            0.542091   \n",
       "2     126.0    0.600000      0.525747     ...            0.504202   \n",
       "3     391.0    0.571429      0.523781     ...            0.529047   \n",
       "4     160.0    0.580000      0.524329     ...            0.536270   \n",
       "\n",
       "   enc_A4-rank  enc_B1-weapon  enc_B1-rank  enc_B2-weapon  enc_B2-rank  \\\n",
       "0     0.554801       0.501116     0.556006       0.570447     0.556006   \n",
       "1     0.554401       0.503333     0.555556       0.585821     0.555556   \n",
       "2     0.531184       0.493896     0.526357       0.505183     0.530684   \n",
       "3     0.552484       0.584475     0.553457       0.579299     0.553457   \n",
       "4     0.519280       0.519149     0.518985       0.483444     0.518985   \n",
       "\n",
       "   enc_B3-weapon  enc_B3-rank  enc_B4-weapon  enc_B4-rank  \n",
       "0       0.598246     0.556006       0.498008     0.557492  \n",
       "1       0.592000     0.555556       0.516249     0.556777  \n",
       "2       0.512195     0.542117       0.529514     0.525678  \n",
       "3       0.488304     0.553457       0.552743     0.554913  \n",
       "4       0.513580     0.518985       0.499267     0.518624  \n",
       "\n",
       "[5 rows x 30 columns]"
      ]
     },
     "execution_count": 5,
     "metadata": {},
     "output_type": "execute_result"
    }
   ],
   "source": [
    "X_train_all.head()"
   ]
  },
  {
   "cell_type": "code",
   "execution_count": 6,
   "metadata": {},
   "outputs": [
    {
     "name": "stdout",
     "output_type": "stream",
     "text": [
      "Index(['A1-level', 'A2-level', 'A3-level', 'A4-level', 'B1-level', 'B2-level',\n",
      "       'B3-level', 'B4-level', 'enc_period', 'enc_game-ver', 'enc_lobby-mode',\n",
      "       'enc_lobby', 'enc_mode', 'enc_stage', 'enc_A1-weapon', 'enc_A1-rank',\n",
      "       'enc_A2-weapon', 'enc_A2-rank', 'enc_A3-weapon', 'enc_A3-rank',\n",
      "       'enc_A4-weapon', 'enc_A4-rank', 'enc_B1-weapon', 'enc_B1-rank',\n",
      "       'enc_B2-weapon', 'enc_B2-rank', 'enc_B3-weapon', 'enc_B3-rank',\n",
      "       'enc_B4-weapon', 'enc_B4-rank'],\n",
      "      dtype='object')\n",
      "Index(['A1-level', 'A2-level', 'A3-level', 'A4-level', 'B1-level', 'B2-level',\n",
      "       'B3-level', 'B4-level', 'enc_period', 'enc_game-ver', 'enc_lobby-mode',\n",
      "       'enc_lobby', 'enc_mode', 'enc_stage', 'enc_A1-weapon', 'enc_A1-rank',\n",
      "       'enc_A2-weapon', 'enc_A2-rank', 'enc_A3-weapon', 'enc_A3-rank',\n",
      "       'enc_A4-weapon', 'enc_A4-rank', 'enc_B1-weapon', 'enc_B1-rank',\n",
      "       'enc_B2-weapon', 'enc_B2-rank', 'enc_B3-weapon', 'enc_B3-rank',\n",
      "       'enc_B4-weapon', 'enc_B4-rank'],\n",
      "      dtype='object')\n"
     ]
    }
   ],
   "source": [
    "# 訓練データとテストデータの列を確認\n",
    "print(X_train_all.columns)\n",
    "print(X_test.columns)"
   ]
  },
  {
   "cell_type": "code",
   "execution_count": 7,
   "metadata": {},
   "outputs": [
    {
     "name": "stdout",
     "output_type": "stream",
     "text": [
      "(66125, 30)\n",
      "(28340, 30)\n"
     ]
    }
   ],
   "source": [
    "# 訓練データとテストデータの列を確認\n",
    "print(X_train_all.shape)\n",
    "print(X_test.shape)"
   ]
  },
  {
   "cell_type": "code",
   "execution_count": 8,
   "metadata": {},
   "outputs": [
    {
     "data": {
      "text/plain": [
       "0"
      ]
     },
     "execution_count": 8,
     "metadata": {},
     "output_type": "execute_result"
    }
   ],
   "source": [
    "#　訓練データに欠損がないことの確認\n",
    "X_train_all.isnull().sum().sum()"
   ]
  },
  {
   "cell_type": "code",
   "execution_count": 9,
   "metadata": {},
   "outputs": [
    {
     "data": {
      "text/plain": [
       "0"
      ]
     },
     "execution_count": 9,
     "metadata": {},
     "output_type": "execute_result"
    }
   ],
   "source": [
    "#　テストデータに欠損がないことの確認\n",
    "X_test.isnull().sum().sum()"
   ]
  },
  {
   "cell_type": "code",
   "execution_count": 10,
   "metadata": {},
   "outputs": [
    {
     "name": "stdout",
     "output_type": "stream",
     "text": [
      "-------------------train-------------------\n",
      "A1-level          0\n",
      "A2-level          0\n",
      "A3-level          0\n",
      "A4-level          0\n",
      "B1-level          0\n",
      "B2-level          0\n",
      "B3-level          0\n",
      "B4-level          0\n",
      "enc_period        0\n",
      "enc_game-ver      0\n",
      "enc_lobby-mode    0\n",
      "enc_lobby         0\n",
      "enc_mode          0\n",
      "enc_stage         0\n",
      "enc_A1-weapon     0\n",
      "enc_A1-rank       0\n",
      "enc_A2-weapon     0\n",
      "enc_A2-rank       0\n",
      "enc_A3-weapon     0\n",
      "enc_A3-rank       0\n",
      "enc_A4-weapon     0\n",
      "enc_A4-rank       0\n",
      "enc_B1-weapon     0\n",
      "enc_B1-rank       0\n",
      "enc_B2-weapon     0\n",
      "enc_B2-rank       0\n",
      "enc_B3-weapon     0\n",
      "enc_B3-rank       0\n",
      "enc_B4-weapon     0\n",
      "enc_B4-rank       0\n",
      "dtype: int64\n",
      "-------------------test-------------------\n",
      "A1-level          0\n",
      "A2-level          0\n",
      "A3-level          0\n",
      "A4-level          0\n",
      "B1-level          0\n",
      "B2-level          0\n",
      "B3-level          0\n",
      "B4-level          0\n",
      "enc_period        0\n",
      "enc_game-ver      0\n",
      "enc_lobby-mode    0\n",
      "enc_lobby         0\n",
      "enc_mode          0\n",
      "enc_stage         0\n",
      "enc_A1-weapon     0\n",
      "enc_A1-rank       0\n",
      "enc_A2-weapon     0\n",
      "enc_A2-rank       0\n",
      "enc_A3-weapon     0\n",
      "enc_A3-rank       0\n",
      "enc_A4-weapon     0\n",
      "enc_A4-rank       0\n",
      "enc_B1-weapon     0\n",
      "enc_B1-rank       0\n",
      "enc_B2-weapon     0\n",
      "enc_B2-rank       0\n",
      "enc_B3-weapon     0\n",
      "enc_B3-rank       0\n",
      "enc_B4-weapon     0\n",
      "enc_B4-rank       0\n",
      "dtype: int64\n"
     ]
    }
   ],
   "source": [
    "print(\"-------------------train-------------------\")\n",
    "print(X_train_all.isnull().sum())\n",
    "print(\"-------------------test-------------------\")\n",
    "print(X_test.isnull().sum())"
   ]
  },
  {
   "cell_type": "code",
   "execution_count": 14,
   "metadata": {},
   "outputs": [
    {
     "name": "stdout",
     "output_type": "stream",
     "text": [
      "<class 'pandas.core.frame.DataFrame'>\n",
      "RangeIndex: 28340 entries, 0 to 28339\n",
      "Data columns (total 30 columns):\n",
      "A1-level          28340 non-null int64\n",
      "A2-level          28340 non-null float64\n",
      "A3-level          28340 non-null float64\n",
      "A4-level          28340 non-null float64\n",
      "B1-level          28340 non-null int64\n",
      "B2-level          28340 non-null float64\n",
      "B3-level          28340 non-null float64\n",
      "B4-level          28340 non-null float64\n",
      "enc_period        28340 non-null float64\n",
      "enc_game-ver      28340 non-null float64\n",
      "enc_lobby-mode    28340 non-null float64\n",
      "enc_lobby         28340 non-null float64\n",
      "enc_mode          28340 non-null float64\n",
      "enc_stage         28340 non-null float64\n",
      "enc_A1-weapon     28340 non-null float64\n",
      "enc_A1-rank       28340 non-null float64\n",
      "enc_A2-weapon     28340 non-null float64\n",
      "enc_A2-rank       28340 non-null float64\n",
      "enc_A3-weapon     28340 non-null float64\n",
      "enc_A3-rank       28340 non-null float64\n",
      "enc_A4-weapon     28340 non-null float64\n",
      "enc_A4-rank       28340 non-null float64\n",
      "enc_B1-weapon     28340 non-null float64\n",
      "enc_B1-rank       28340 non-null float64\n",
      "enc_B2-weapon     28340 non-null float64\n",
      "enc_B2-rank       28340 non-null float64\n",
      "enc_B3-weapon     28340 non-null float64\n",
      "enc_B3-rank       28340 non-null float64\n",
      "enc_B4-weapon     28340 non-null float64\n",
      "enc_B4-rank       28340 non-null float64\n",
      "dtypes: float64(28), int64(2)\n",
      "memory usage: 6.5 MB\n"
     ]
    },
    {
     "data": {
      "text/plain": [
       "None"
      ]
     },
     "metadata": {},
     "output_type": "display_data"
    }
   ],
   "source": [
    "display(X_test.info())"
   ]
  },
  {
   "cell_type": "code",
   "execution_count": null,
   "metadata": {},
   "outputs": [],
   "source": []
  }
 ],
 "metadata": {
  "kernelspec": {
   "display_name": "Python 3",
   "language": "python",
   "name": "python3"
  },
  "language_info": {
   "codemirror_mode": {
    "name": "ipython",
    "version": 3
   },
   "file_extension": ".py",
   "mimetype": "text/x-python",
   "name": "python",
   "nbconvert_exporter": "python",
   "pygments_lexer": "ipython3",
   "version": "3.6.7"
  }
 },
 "nbformat": 4,
 "nbformat_minor": 2
}
